{
  "cells": [
    {
      "cell_type": "markdown",
      "metadata": {
        "id": "view-in-github",
        "colab_type": "text"
      },
      "source": [
        "<a href=\"https://colab.research.google.com/github/samartha007/Heart-disease-prediction/blob/main/Heart_Deisease_Prediction.ipynb\" target=\"_parent\"><img src=\"https://colab.research.google.com/assets/colab-badge.svg\" alt=\"Open In Colab\"/></a>"
      ]
    },
    {
      "cell_type": "markdown",
      "metadata": {
        "id": "Cvq7SoYRNeXx"
      },
      "source": [
        "# Heart Disease Prediction Useing the Supervised and Unsupervised Alogrithms\n",
        "\n",
        "#### List of Algorithms\n",
        "\n",
        "1. Naive Bayes\n",
        "2. Logistic Regression\n",
        "3. K-Nearest Neighbours\n",
        "4. Support Vector Machine\n",
        "5. Decision Tree \n",
        "6. Bagging  Decision Tree (Ensemble Learning I)\n",
        "7. Boosted Decision Tree (Ensemble Learning II)\n",
        "8. Random Forest (Ensemble Learning III)\n",
        "9. Deep Learning with a neuronal network\n",
        "10. Voting Classification (Ensemble Learning IV)"
      ]
    },
    {
      "cell_type": "markdown",
      "metadata": {
        "id": "0YLjKLoANeX5"
      },
      "source": [
        "# Data import\n",
        "\n",
        "People with cardiovascular disease or who are at high cardiovascular risk (due to the presence of one or more risk factors such as hypertension, diabetes, hyperlipidaemia or already established disease) need early detection and management wherein a machine learning model can be of great help.\n",
        "\n",
        "\n",
        "It is collected from kaggle data set\n",
        "\n",
        "Data Source: https://www.kaggle.com/datasets/fedesoriano/heart-failure-prediction"
      ]
    },
    {
      "cell_type": "code",
      "execution_count": null,
      "metadata": {
        "colab": {
          "base_uri": "https://localhost:8080/"
        },
        "id": "rGQTMM8CPOuo",
        "outputId": "404062f1-929e-4bd2-b483-6430db15de18"
      },
      "outputs": [
        {
          "output_type": "stream",
          "name": "stdout",
          "text": [
            "<class 'pandas.core.frame.DataFrame'>\n",
            "RangeIndex: 918 entries, 0 to 917\n",
            "Data columns (total 12 columns):\n",
            " #   Column          Non-Null Count  Dtype  \n",
            "---  ------          --------------  -----  \n",
            " 0   Age             918 non-null    int64  \n",
            " 1   Sex             918 non-null    object \n",
            " 2   ChestPainType   918 non-null    object \n",
            " 3   RestingBP       918 non-null    int64  \n",
            " 4   Cholesterol     918 non-null    int64  \n",
            " 5   FastingBS       918 non-null    int64  \n",
            " 6   RestingECG      918 non-null    object \n",
            " 7   MaxHR           918 non-null    int64  \n",
            " 8   ExerciseAngina  918 non-null    object \n",
            " 9   Oldpeak         918 non-null    float64\n",
            " 10  ST_Slope        918 non-null    object \n",
            " 11  HeartDisease    918 non-null    int64  \n",
            "dtypes: float64(1), int64(6), object(5)\n",
            "memory usage: 86.2+ KB\n"
          ]
        }
      ],
      "source": [
        "import pandas as pd\n",
        "dataset = pd.read_csv(\"/content/heart.csv\")\n",
        "dataset.info() \n"
      ]
    },
    {
      "cell_type": "markdown",
      "metadata": {
        "id": "tm9je1PxP2dt"
      },
      "source": [
        "## EDA(Explanetory Data Analysis)"
      ]
    },
    {
      "cell_type": "markdown",
      "metadata": {
        "id": "4en8bndhL0LD"
      },
      "source": [
        "## Import and get to know the data\n",
        "Data Cleaning\n",
        "\n",
        "a) Check the data type\n",
        "\n",
        "b) Check for missing values and replace them\n",
        "\n",
        "c) Check for duplicate rows\n",
        "\n",
        "d) Statistics summary\n",
        "\n",
        "e) Outliers and how to remove them\n",
        "\n",
        "3. Distributions and Relationship\n",
        "\n",
        "a) Categorical variable distribution\n",
        "\n",
        "b) Continuous variable distribution\n",
        "\n",
        "c) Relationship between categorical and continuous variables\n"
      ]
    },
    {
      "cell_type": "code",
      "execution_count": null,
      "metadata": {
        "id": "jXdAYlnmP1tx"
      },
      "outputs": [],
      "source": [
        "import os\n",
        "import pandas as pd\n",
        "import numpy as np\n",
        "import matplotlib.pyplot as plt\n",
        "import seaborn as sns\n",
        "import missingno as msno # To visualize missing value\n",
        "import plotly.graph_objects as go # To Generate Graphs\n",
        "import plotly.express as px # To Generate box plot for statistical representation\n",
        "%matplotlib inline\n"
      ]
    },
    {
      "cell_type": "code",
      "execution_count": null,
      "metadata": {
        "colab": {
          "base_uri": "https://localhost:8080/"
        },
        "id": "kuZPTHSE2WVf",
        "outputId": "e911e887-d8b8-40e7-e5c3-0eeccd6556a2"
      },
      "outputs": [
        {
          "output_type": "execute_result",
          "data": {
            "text/plain": [
              "Age                50\n",
              "Sex                 2\n",
              "ChestPainType       4\n",
              "RestingBP          67\n",
              "Cholesterol       222\n",
              "FastingBS           2\n",
              "RestingECG          3\n",
              "MaxHR             119\n",
              "ExerciseAngina      2\n",
              "Oldpeak            53\n",
              "ST_Slope            3\n",
              "HeartDisease        2\n",
              "dtype: int64"
            ]
          },
          "metadata": {},
          "execution_count": 8
        }
      ],
      "source": [
        "dataset.nunique()"
      ]
    },
    {
      "cell_type": "code",
      "execution_count": null,
      "metadata": {
        "colab": {
          "base_uri": "https://localhost:8080/"
        },
        "id": "MRTUNA0hPyb3",
        "outputId": "4875047c-2445-4dc1-a9bb-19d520e67e33"
      },
      "outputs": [
        {
          "output_type": "execute_result",
          "data": {
            "text/plain": [
              "Age                 int64\n",
              "Sex                object\n",
              "ChestPainType      object\n",
              "RestingBP           int64\n",
              "Cholesterol         int64\n",
              "FastingBS           int64\n",
              "RestingECG         object\n",
              "MaxHR               int64\n",
              "ExerciseAngina     object\n",
              "Oldpeak           float64\n",
              "ST_Slope           object\n",
              "HeartDisease        int64\n",
              "dtype: object"
            ]
          },
          "metadata": {},
          "execution_count": 9
        }
      ],
      "source": [
        "dataset.dtypes"
      ]
    },
    {
      "cell_type": "markdown",
      "metadata": {
        "id": "JSYds-3DQCsy"
      },
      "source": [
        "b) Check for missing values and replace them\n",
        "\n"
      ]
    },
    {
      "cell_type": "code",
      "execution_count": null,
      "metadata": {
        "colab": {
          "base_uri": "https://localhost:8080/"
        },
        "id": "1fewsrIb3OM-",
        "outputId": "d7275449-4d51-47ee-b13a-2a5165109a7c"
      },
      "outputs": [
        {
          "output_type": "execute_result",
          "data": {
            "text/plain": [
              "Age               0\n",
              "Sex               0\n",
              "ChestPainType     0\n",
              "RestingBP         0\n",
              "Cholesterol       0\n",
              "FastingBS         0\n",
              "RestingECG        0\n",
              "MaxHR             0\n",
              "ExerciseAngina    0\n",
              "Oldpeak           0\n",
              "ST_Slope          0\n",
              "HeartDisease      0\n",
              "dtype: int64"
            ]
          },
          "metadata": {},
          "execution_count": 10
        }
      ],
      "source": [
        "dataset.isnull().sum()"
      ]
    },
    {
      "cell_type": "markdown",
      "metadata": {
        "id": "UYXoe_ZARGfh"
      },
      "source": [
        "c) Check for duplicate rows"
      ]
    },
    {
      "cell_type": "code",
      "execution_count": null,
      "metadata": {
        "colab": {
          "base_uri": "https://localhost:8080/"
        },
        "id": "wB5w1IuDRNQG",
        "outputId": "bc95a48c-549a-472e-e994-82ee7647935e"
      },
      "outputs": [
        {
          "output_type": "stream",
          "name": "stdout",
          "text": [
            "Dataset contains no Duplicate Values\n"
          ]
        }
      ],
      "source": [
        "duplicated=dataset.duplicated().sum()\n",
        "if duplicated:\n",
        "  print(\"Duplicates Rows in dataset are :{}\".format(duplicated))\n",
        "else:\n",
        "  print(\"Dataset contains no Duplicate Values\")\n"
      ]
    },
    {
      "cell_type": "markdown",
      "metadata": {
        "id": "N7XYOtMgSKHZ"
      },
      "source": [
        "d) Statistics summary"
      ]
    },
    {
      "cell_type": "code",
      "execution_count": null,
      "metadata": {
        "colab": {
          "base_uri": "https://localhost:8080/",
          "height": 300
        },
        "id": "6dNhZpjgSMoH",
        "outputId": "a6e565b1-96ca-418f-e7a9-0cd361cc6fd3"
      },
      "outputs": [
        {
          "output_type": "execute_result",
          "data": {
            "text/plain": [
              "              Age   RestingBP  Cholesterol   FastingBS       MaxHR  \\\n",
              "count  918.000000  918.000000   918.000000  918.000000  918.000000   \n",
              "mean    53.510893  132.396514   198.799564    0.233115  136.809368   \n",
              "std      9.432617   18.514154   109.384145    0.423046   25.460334   \n",
              "min     28.000000    0.000000     0.000000    0.000000   60.000000   \n",
              "25%     47.000000  120.000000   173.250000    0.000000  120.000000   \n",
              "50%     54.000000  130.000000   223.000000    0.000000  138.000000   \n",
              "75%     60.000000  140.000000   267.000000    0.000000  156.000000   \n",
              "max     77.000000  200.000000   603.000000    1.000000  202.000000   \n",
              "\n",
              "          Oldpeak  HeartDisease  \n",
              "count  918.000000    918.000000  \n",
              "mean     0.887364      0.553377  \n",
              "std      1.066570      0.497414  \n",
              "min     -2.600000      0.000000  \n",
              "25%      0.000000      0.000000  \n",
              "50%      0.600000      1.000000  \n",
              "75%      1.500000      1.000000  \n",
              "max      6.200000      1.000000  "
            ],
            "text/html": [
              "\n",
              "  <div id=\"df-ad1d5d3b-4927-4105-bab8-5ea2ba055536\">\n",
              "    <div class=\"colab-df-container\">\n",
              "      <div>\n",
              "<style scoped>\n",
              "    .dataframe tbody tr th:only-of-type {\n",
              "        vertical-align: middle;\n",
              "    }\n",
              "\n",
              "    .dataframe tbody tr th {\n",
              "        vertical-align: top;\n",
              "    }\n",
              "\n",
              "    .dataframe thead th {\n",
              "        text-align: right;\n",
              "    }\n",
              "</style>\n",
              "<table border=\"1\" class=\"dataframe\">\n",
              "  <thead>\n",
              "    <tr style=\"text-align: right;\">\n",
              "      <th></th>\n",
              "      <th>Age</th>\n",
              "      <th>RestingBP</th>\n",
              "      <th>Cholesterol</th>\n",
              "      <th>FastingBS</th>\n",
              "      <th>MaxHR</th>\n",
              "      <th>Oldpeak</th>\n",
              "      <th>HeartDisease</th>\n",
              "    </tr>\n",
              "  </thead>\n",
              "  <tbody>\n",
              "    <tr>\n",
              "      <th>count</th>\n",
              "      <td>918.000000</td>\n",
              "      <td>918.000000</td>\n",
              "      <td>918.000000</td>\n",
              "      <td>918.000000</td>\n",
              "      <td>918.000000</td>\n",
              "      <td>918.000000</td>\n",
              "      <td>918.000000</td>\n",
              "    </tr>\n",
              "    <tr>\n",
              "      <th>mean</th>\n",
              "      <td>53.510893</td>\n",
              "      <td>132.396514</td>\n",
              "      <td>198.799564</td>\n",
              "      <td>0.233115</td>\n",
              "      <td>136.809368</td>\n",
              "      <td>0.887364</td>\n",
              "      <td>0.553377</td>\n",
              "    </tr>\n",
              "    <tr>\n",
              "      <th>std</th>\n",
              "      <td>9.432617</td>\n",
              "      <td>18.514154</td>\n",
              "      <td>109.384145</td>\n",
              "      <td>0.423046</td>\n",
              "      <td>25.460334</td>\n",
              "      <td>1.066570</td>\n",
              "      <td>0.497414</td>\n",
              "    </tr>\n",
              "    <tr>\n",
              "      <th>min</th>\n",
              "      <td>28.000000</td>\n",
              "      <td>0.000000</td>\n",
              "      <td>0.000000</td>\n",
              "      <td>0.000000</td>\n",
              "      <td>60.000000</td>\n",
              "      <td>-2.600000</td>\n",
              "      <td>0.000000</td>\n",
              "    </tr>\n",
              "    <tr>\n",
              "      <th>25%</th>\n",
              "      <td>47.000000</td>\n",
              "      <td>120.000000</td>\n",
              "      <td>173.250000</td>\n",
              "      <td>0.000000</td>\n",
              "      <td>120.000000</td>\n",
              "      <td>0.000000</td>\n",
              "      <td>0.000000</td>\n",
              "    </tr>\n",
              "    <tr>\n",
              "      <th>50%</th>\n",
              "      <td>54.000000</td>\n",
              "      <td>130.000000</td>\n",
              "      <td>223.000000</td>\n",
              "      <td>0.000000</td>\n",
              "      <td>138.000000</td>\n",
              "      <td>0.600000</td>\n",
              "      <td>1.000000</td>\n",
              "    </tr>\n",
              "    <tr>\n",
              "      <th>75%</th>\n",
              "      <td>60.000000</td>\n",
              "      <td>140.000000</td>\n",
              "      <td>267.000000</td>\n",
              "      <td>0.000000</td>\n",
              "      <td>156.000000</td>\n",
              "      <td>1.500000</td>\n",
              "      <td>1.000000</td>\n",
              "    </tr>\n",
              "    <tr>\n",
              "      <th>max</th>\n",
              "      <td>77.000000</td>\n",
              "      <td>200.000000</td>\n",
              "      <td>603.000000</td>\n",
              "      <td>1.000000</td>\n",
              "      <td>202.000000</td>\n",
              "      <td>6.200000</td>\n",
              "      <td>1.000000</td>\n",
              "    </tr>\n",
              "  </tbody>\n",
              "</table>\n",
              "</div>\n",
              "      <button class=\"colab-df-convert\" onclick=\"convertToInteractive('df-ad1d5d3b-4927-4105-bab8-5ea2ba055536')\"\n",
              "              title=\"Convert this dataframe to an interactive table.\"\n",
              "              style=\"display:none;\">\n",
              "        \n",
              "  <svg xmlns=\"http://www.w3.org/2000/svg\" height=\"24px\"viewBox=\"0 0 24 24\"\n",
              "       width=\"24px\">\n",
              "    <path d=\"M0 0h24v24H0V0z\" fill=\"none\"/>\n",
              "    <path d=\"M18.56 5.44l.94 2.06.94-2.06 2.06-.94-2.06-.94-.94-2.06-.94 2.06-2.06.94zm-11 1L8.5 8.5l.94-2.06 2.06-.94-2.06-.94L8.5 2.5l-.94 2.06-2.06.94zm10 10l.94 2.06.94-2.06 2.06-.94-2.06-.94-.94-2.06-.94 2.06-2.06.94z\"/><path d=\"M17.41 7.96l-1.37-1.37c-.4-.4-.92-.59-1.43-.59-.52 0-1.04.2-1.43.59L10.3 9.45l-7.72 7.72c-.78.78-.78 2.05 0 2.83L4 21.41c.39.39.9.59 1.41.59.51 0 1.02-.2 1.41-.59l7.78-7.78 2.81-2.81c.8-.78.8-2.07 0-2.86zM5.41 20L4 18.59l7.72-7.72 1.47 1.35L5.41 20z\"/>\n",
              "  </svg>\n",
              "      </button>\n",
              "      \n",
              "  <style>\n",
              "    .colab-df-container {\n",
              "      display:flex;\n",
              "      flex-wrap:wrap;\n",
              "      gap: 12px;\n",
              "    }\n",
              "\n",
              "    .colab-df-convert {\n",
              "      background-color: #E8F0FE;\n",
              "      border: none;\n",
              "      border-radius: 50%;\n",
              "      cursor: pointer;\n",
              "      display: none;\n",
              "      fill: #1967D2;\n",
              "      height: 32px;\n",
              "      padding: 0 0 0 0;\n",
              "      width: 32px;\n",
              "    }\n",
              "\n",
              "    .colab-df-convert:hover {\n",
              "      background-color: #E2EBFA;\n",
              "      box-shadow: 0px 1px 2px rgba(60, 64, 67, 0.3), 0px 1px 3px 1px rgba(60, 64, 67, 0.15);\n",
              "      fill: #174EA6;\n",
              "    }\n",
              "\n",
              "    [theme=dark] .colab-df-convert {\n",
              "      background-color: #3B4455;\n",
              "      fill: #D2E3FC;\n",
              "    }\n",
              "\n",
              "    [theme=dark] .colab-df-convert:hover {\n",
              "      background-color: #434B5C;\n",
              "      box-shadow: 0px 1px 3px 1px rgba(0, 0, 0, 0.15);\n",
              "      filter: drop-shadow(0px 1px 2px rgba(0, 0, 0, 0.3));\n",
              "      fill: #FFFFFF;\n",
              "    }\n",
              "  </style>\n",
              "\n",
              "      <script>\n",
              "        const buttonEl =\n",
              "          document.querySelector('#df-ad1d5d3b-4927-4105-bab8-5ea2ba055536 button.colab-df-convert');\n",
              "        buttonEl.style.display =\n",
              "          google.colab.kernel.accessAllowed ? 'block' : 'none';\n",
              "\n",
              "        async function convertToInteractive(key) {\n",
              "          const element = document.querySelector('#df-ad1d5d3b-4927-4105-bab8-5ea2ba055536');\n",
              "          const dataTable =\n",
              "            await google.colab.kernel.invokeFunction('convertToInteractive',\n",
              "                                                     [key], {});\n",
              "          if (!dataTable) return;\n",
              "\n",
              "          const docLinkHtml = 'Like what you see? Visit the ' +\n",
              "            '<a target=\"_blank\" href=https://colab.research.google.com/notebooks/data_table.ipynb>data table notebook</a>'\n",
              "            + ' to learn more about interactive tables.';\n",
              "          element.innerHTML = '';\n",
              "          dataTable['output_type'] = 'display_data';\n",
              "          await google.colab.output.renderOutput(dataTable, element);\n",
              "          const docLink = document.createElement('div');\n",
              "          docLink.innerHTML = docLinkHtml;\n",
              "          element.appendChild(docLink);\n",
              "        }\n",
              "      </script>\n",
              "    </div>\n",
              "  </div>\n",
              "  "
            ]
          },
          "metadata": {},
          "execution_count": 12
        }
      ],
      "source": [
        "dataset.describe()"
      ]
    },
    {
      "cell_type": "markdown",
      "metadata": {
        "id": "iIYMmHhHSWu8"
      },
      "source": [
        "Before we plot the outliers, let's change the labeling for better visualization and interpretation.\n"
      ]
    },
    {
      "cell_type": "code",
      "execution_count": null,
      "metadata": {
        "id": "GpW4BX2fSYOc"
      },
      "outputs": [],
      "source": [
        "df=dataset\n",
        "df['HeartDisease'] = df.HeartDisease.replace({1: \"Disease\", 0: \"No_disease\"})\n",
        "df['Sex'] = df.Sex.replace({1: \"Male\", 0: \"Female\"})\n",
        "df['ChestPainType'] = df.ChestPainType.replace({0: \"typical_angina\", \n",
        "                          1: \"atypical_angina\", \n",
        "                          2:\"non-anginal pain\",\n",
        "                          3: \"asymtomatic\"})\n",
        "df['ExerciseAngina'] = df.ExerciseAngina.replace({1: \"Yes\", 0: \"No\"})\n",
        "df['FastingBS'] = df.FastingBS.replace({1: \"True\", 0: \"False\"})\n",
        "df['ST_Slope'] = df.ST_Slope.replace({0: \"upsloping\", 1: \"flat\",2:\"downsloping\"})\n"
      ]
    },
    {
      "cell_type": "code",
      "execution_count": null,
      "metadata": {
        "colab": {
          "base_uri": "https://localhost:8080/"
        },
        "id": "RNB4KW9Ca8er",
        "outputId": "23f29571-78c1-4527-ffdc-c3cc97c87957"
      },
      "outputs": [
        {
          "output_type": "stream",
          "name": "stdout",
          "text": [
            "<class 'pandas.core.frame.DataFrame'>\n",
            "RangeIndex: 918 entries, 0 to 917\n",
            "Data columns (total 12 columns):\n",
            " #   Column          Non-Null Count  Dtype  \n",
            "---  ------          --------------  -----  \n",
            " 0   Age             918 non-null    int64  \n",
            " 1   Sex             918 non-null    object \n",
            " 2   ChestPainType   918 non-null    object \n",
            " 3   RestingBP       918 non-null    int64  \n",
            " 4   Cholesterol     918 non-null    int64  \n",
            " 5   FastingBS       918 non-null    object \n",
            " 6   RestingECG      918 non-null    object \n",
            " 7   MaxHR           918 non-null    int64  \n",
            " 8   ExerciseAngina  918 non-null    object \n",
            " 9   Oldpeak         918 non-null    float64\n",
            " 10  ST_Slope        918 non-null    object \n",
            " 11  HeartDisease    918 non-null    object \n",
            "dtypes: float64(1), int64(4), object(7)\n",
            "memory usage: 86.2+ KB\n"
          ]
        },
        {
          "output_type": "execute_result",
          "data": {
            "text/plain": [
              "array(['False', 'True'], dtype=object)"
            ]
          },
          "metadata": {},
          "execution_count": 14
        }
      ],
      "source": [
        "df.info()\n",
        "dataset.FastingBS.unique()"
      ]
    },
    {
      "cell_type": "markdown",
      "metadata": {
        "id": "Zurzv6v0TMS-"
      },
      "source": [
        "e) Outliers and how to remove them\n",
        "\n"
      ]
    },
    {
      "cell_type": "code",
      "execution_count": null,
      "metadata": {
        "colab": {
          "base_uri": "https://localhost:8080/",
          "height": 395
        },
        "id": "DOzTBlXYTTls",
        "outputId": "addbe561-b0e0-49d9-e004-1bbe66247966"
      },
      "outputs": [
        {
          "output_type": "execute_result",
          "data": {
            "text/plain": [
              "Age               AxesSubplot(0.125,0.536818;0.110714x0.343182)\n",
              "RestingBP      AxesSubplot(0.257857,0.536818;0.110714x0.343182)\n",
              "Cholesterol    AxesSubplot(0.390714,0.536818;0.110714x0.343182)\n",
              "MaxHR          AxesSubplot(0.523571,0.536818;0.110714x0.343182)\n",
              "Oldpeak        AxesSubplot(0.656429,0.536818;0.110714x0.343182)\n",
              "dtype: object"
            ]
          },
          "metadata": {},
          "execution_count": 15
        },
        {
          "output_type": "display_data",
          "data": {
            "text/plain": [
              "<Figure size 1440x720 with 12 Axes>"
            ],
            "image/png": "[encoded data removed]"
          },
          "metadata": {
            "needs_background": "light"
          }
        }
      ],
      "source": [
        "df.plot(kind='box',subplots=True,layout=(2,6),sharex=False,sharey=False,figsize=(20,10),color='deeppink')"
      ]
    },
    {
      "cell_type": "code",
      "execution_count": null,
      "metadata": {
        "colab": {
          "base_uri": "https://localhost:8080/",
          "height": 542
        },
        "id": "tvIMvixDUZc0",
        "outputId": "7986a0ff-e73a-46f1-b66a-e952622cc880"
      },
      "outputs": [
        {
          "output_type": "display_data",
          "data": {
            "text/html": [
              "<html>\n",
              "<head><meta charset=\"utf-8\" /></head>\n",
              "<body>\n",
              "    <div>            <script src=\"https://cdnjs.cloudflare.com/ajax/libs/mathjax/2.7.5/MathJax.js?config=TeX-AMS-MML_SVG\"></script><script type=\"text/javascript\">if (window.MathJax) {MathJax.Hub.Config({SVG: {font: \"STIX-Web\"}});}</script>                <script type=\"text/javascript\">window.PlotlyConfig = {MathJaxConfig: 'local'};</script>\n",
              "        <script src=\"https://cdn.plot.ly/plotly-2.8.3.min.js\"></script>                <div id=\"14ee65d9-4c0b-4369-bb77-f515846f0e4d\" class=\"plotly-graph-div\" style=\"height:525px; width:100%;\"></div>            <script type=\"text/javascript\">                                    window.PLOTLYENV=window.PLOTLYENV || {};                                    if (document.getElementById(\"14ee65d9-4c0b-4369-bb77-f515846f0e4d\")) {                    Plotly.newPlot(                        \"14ee65d9-4c0b-4369-bb77-f515846f0e4d\",                        [{\"alignmentgroup\":\"True\",\"hovertemplate\":\"HeartDisease=%{x}<br>Cholesterol=%{y}<extra></extra>\",\"legendgroup\":\"\",\"marker\":{\"color\":\"#636efa\"},\"name\":\"\",\"notched\":false,\"offsetgroup\":\"\",\"orientation\":\"v\",\"showlegend\":false,\"x\":[\"No_disease\",\"Disease\",\"No_disease\",\"Disease\",\"No_disease\",\"No_disease\",\"No_disease\",\"No_disease\",\"Disease\",\"No_disease\",\"No_disease\",\"Disease\",\"No_disease\",\"Disease\",\"No_disease\",\"No_disease\",\"Disease\",\"No_disease\",\"Disease\",\"Disease\",\"No_disease\",\"No_disease\",\"No_disease\",\"Disease\",\"No_disease\",\"No_disease\",\"No_disease\",\"No_disease\",\"No_disease\",\"No_disease\",\"Disease\",\"No_disease\",\"Disease\",\"Disease\",\"No_disease\",\"No_disease\",\"Disease\",\"No_disease\",\"No_disease\",\"No_disease\",\"No_disease\",\"Disease\",\"No_disease\",\"No_disease\",\"Disease\",\"No_disease\",\"No_disease\",\"No_disease\",\"No_disease\",\"Disease\",\"Disease\",\"Disease\",\"No_disease\",\"No_disease\",\"No_disease\",\"No_disease\",\"Disease\",\"Disease\",\"No_disease\",\"Disease\",\"No_disease\",\"No_disease\",\"No_disease\",\"Disease\",\"No_disease\",\"No_disease\",\"No_disease\",\"No_disease\",\"Disease\",\"No_disease\",\"Disease\",\"No_disease\",\"Disease\",\"No_disease\",\"Disease\",\"No_disease\",\"Disease\",\"No_disease\",\"No_disease\",\"Disease\",\"No_disease\",\"No_disease\",\"Disease\",\"No_disease\",\"Disease\",\"Disease\",\"Disease\",\"No_disease\",\"Disease\",\"No_disease\",\"No_disease\",\"No_disease\",\"No_disease\",\"Disease\",\"No_disease\",\"Disease\",\"No_disease\",\"No_disease\",\"No_disease\",\"No_disease\",\"Disease\",\"No_disease\",\"Disease\",\"Disease\",\"Disease\",\"No_disease\",\"No_disease\",\"No_disease\",\"No_disease\",\"No_disease\",\"No_disease\",\"Disease\",\"No_disease\",\"No_disease\",\"No_disease\",\"Disease\",\"Disease\",\"Disease\",\"No_disease\",\"Disease\",\"Disease\",\"No_disease\",\"No_disease\",\"Disease\",\"No_disease\",\"No_disease\",\"No_disease\",\"No_disease\",\"No_disease\",\"No_disease\",\"No_disease\",\"Disease\",\"Disease\",\"Disease\",\"No_disease\",\"Disease\",\"No_disease\",\"No_disease\",\"Disease\",\"Disease\",\"Disease\",\"Disease\",\"Disease\",\"No_disease\",\"Disease\",\"No_disease\",\"No_disease\",\"No_disease\",\"No_disease\",\"Disease\",\"No_disease\",\"No_disease\",\"No_disease\",\"No_disease\",\"No_disease\",\"Disease\",\"Disease\",\"No_disease\",\"Disease\",\"No_disease\",\"Disease\",\"Disease\",\"No_disease\",\"No_disease\",\"No_disease\",\"Disease\",\"Disease\",\"No_disease\",\"No_disease\",\"No_disease\",\"No_disease\",\"No_disease\",\"No_disease\",\"No_disease\",\"Disease\",\"Disease\",\"Disease\",\"No_disease\",\"No_disease\",\"No_disease\",\"Disease\",\"No_disease\",\"Disease\",\"No_disease\",\"No_disease\",\"Disease\",\"No_disease\",\"Disease\",\"No_disease\",\"Disease\",\"No_disease\",\"No_disease\",\"No_disease\",\"No_disease\",\"No_disease\",\"No_disease\",\"No_disease\",\"No_disease\",\"Disease\",\"No_disease\",\"No_disease\",\"No_disease\",\"No_disease\",\"No_disease\",\"No_disease\",\"No_disease\",\"No_disease\",\"Disease\",\"No_disease\",\"Disease\",\"Disease\",\"Disease\",\"No_disease\",\"No_disease\",\"Disease\",\"No_disease\",\"Disease\",\"No_disease\",\"No_disease\",\"No_disease\",\"Disease\",\"Disease\",\"No_disease\",\"No_disease\",\"No_disease\",\"Disease\",\"No_disease\",\"Disease\",\"No_disease\",\"No_disease\",\"No_disease\",\"No_disease\",\"No_disease\",\"No_disease\",\"No_disease\",\"No_disease\",\"Disease\",\"Disease\",\"Disease\",\"Disease\",\"No_disease\",\"Disease\",\"Disease\",\"No_disease\",\"Disease\",\"No_disease\",\"Disease\",\"Disease\",\"Disease\",\"Disease\",\"Disease\",\"Disease\",\"No_disease\",\"No_disease\",\"Disease\",\"No_disease\",\"No_disease\",\"No_disease\",\"No_disease\",\"No_disease\",\"No_disease\",\"No_disease\",\"Disease\",\"Disease\",\"Disease\",\"No_disease\",\"Disease\",\"No_disease\",\"Disease\",\"No_disease\",\"No_disease\",\"No_disease\",\"Disease\",\"No_disease\",\"No_disease\",\"No_disease\",\"Disease\",\"Disease\",\"No_disease\",\"No_disease\",\"No_disease\",\"Disease\",\"No_disease\",\"No_disease\",\"No_disease\",\"No_disease\",\"No_disease\",\"No_disease\",\"No_disease\",\"No_disease\",\"No_disease\",\"No_disease\",\"No_disease\",\"Disease\",\"Disease\",\"Disease\",\"Disease\",\"Disease\",\"Disease\",\"Disease\",\"Disease\",\"No_disease\",\"Disease\",\"Disease\",\"Disease\",\"Disease\",\"Disease\",\"No_disease\",\"Disease\",\"Disease\",\"No_disease\",\"Disease\",\"Disease\",\"Disease\",\"No_disease\",\"Disease\",\"Disease\",\"Disease\",\"Disease\",\"Disease\",\"Disease\",\"Disease\",\"Disease\",\"Disease\",\"Disease\",\"Disease\",\"No_disease\",\"Disease\",\"Disease\",\"Disease\",\"Disease\",\"Disease\",\"No_disease\",\"Disease\",\"Disease\",\"Disease\",\"No_disease\",\"Disease\",\"Disease\",\"Disease\",\"Disease\",\"Disease\",\"Disease\",\"Disease\",\"Disease\",\"Disease\",\"Disease\",\"Disease\",\"Disease\",\"Disease\",\"Disease\",\"Disease\",\"Disease\",\"Disease\",\"Disease\",\"Disease\",\"Disease\",\"Disease\",\"Disease\",\"Disease\",\"Disease\",\"Disease\",\"Disease\",\"Disease\",\"No_disease\",\"Disease\",\"Disease\",\"Disease\",\"Disease\",\"Disease\",\"Disease\",\"Disease\",\"Disease\",\"Disease\",\"Disease\",\"Disease\",\"Disease\",\"Disease\",\"Disease\",\"Disease\",\"Disease\",\"Disease\",\"Disease\",\"Disease\",\"Disease\",\"Disease\",\"Disease\",\"Disease\",\"Disease\",\"Disease\",\"Disease\",\"Disease\",\"Disease\",\"Disease\",\"Disease\",\"Disease\",\"Disease\",\"Disease\",\"Disease\",\"Disease\",\"Disease\",\"Disease\",\"Disease\",\"Disease\",\"Disease\",\"Disease\",\"Disease\",\"Disease\",\"Disease\",\"Disease\",\"Disease\",\"Disease\",\"Disease\",\"Disease\",\"Disease\",\"Disease\",\"Disease\",\"No_disease\",\"Disease\",\"Disease\",\"No_disease\",\"No_disease\",\"Disease\",\"No_disease\",\"Disease\",\"Disease\",\"No_disease\",\"Disease\",\"Disease\",\"Disease\",\"Disease\",\"No_disease\",\"Disease\",\"Disease\",\"No_disease\",\"No_disease\",\"Disease\",\"Disease\",\"Disease\",\"No_disease\",\"Disease\",\"Disease\",\"Disease\",\"Disease\",\"Disease\",\"Disease\",\"Disease\",\"Disease\",\"Disease\",\"Disease\",\"Disease\",\"Disease\",\"Disease\",\"No_disease\",\"Disease\",\"No_disease\",\"Disease\",\"Disease\",\"Disease\",\"No_disease\",\"Disease\",\"Disease\",\"Disease\",\"No_disease\",\"Disease\",\"No_disease\",\"Disease\",\"No_disease\",\"Disease\",\"No_disease\",\"Disease\",\"Disease\",\"Disease\",\"Disease\",\"No_disease\",\"Disease\",\"No_disease\",\"Disease\",\"Disease\",\"Disease\",\"Disease\",\"Disease\",\"Disease\",\"Disease\",\"Disease\",\"Disease\",\"No_disease\",\"Disease\",\"No_disease\",\"Disease\",\"Disease\",\"Disease\",\"Disease\",\"Disease\",\"Disease\",\"Disease\",\"No_disease\",\"Disease\",\"Disease\",\"Disease\",\"Disease\",\"Disease\",\"Disease\",\"No_disease\",\"Disease\",\"Disease\",\"Disease\",\"No_disease\",\"Disease\",\"Disease\",\"No_disease\",\"Disease\",\"No_disease\",\"Disease\",\"Disease\",\"No_disease\",\"Disease\",\"Disease\",\"Disease\",\"Disease\",\"No_disease\",\"Disease\",\"Disease\",\"Disease\",\"No_disease\",\"No_disease\",\"Disease\",\"No_disease\",\"Disease\",\"Disease\",\"Disease\",\"Disease\",\"Disease\",\"Disease\",\"Disease\",\"Disease\",\"Disease\",\"Disease\",\"Disease\",\"No_disease\",\"Disease\",\"Disease\",\"Disease\",\"Disease\",\"No_disease\",\"No_disease\",\"Disease\",\"Disease\",\"Disease\",\"No_disease\",\"Disease\",\"No_disease\",\"Disease\",\"Disease\",\"No_disease\",\"Disease\",\"No_disease\",\"Disease\",\"Disease\",\"Disease\",\"No_disease\",\"No_disease\",\"No_disease\",\"Disease\",\"Disease\",\"Disease\",\"No_disease\",\"Disease\",\"Disease\",\"Disease\",\"Disease\",\"Disease\",\"Disease\",\"Disease\",\"Disease\",\"Disease\",\"Disease\",\"Disease\",\"Disease\",\"Disease\",\"Disease\",\"Disease\",\"Disease\",\"No_disease\",\"Disease\",\"Disease\",\"Disease\",\"No_disease\",\"Disease\",\"Disease\",\"No_disease\",\"No_disease\",\"Disease\",\"Disease\",\"Disease\",\"Disease\",\"Disease\",\"No_disease\",\"Disease\",\"Disease\",\"No_disease\",\"Disease\",\"Disease\",\"Disease\",\"No_disease\",\"No_disease\",\"Disease\",\"Disease\",\"Disease\",\"Disease\",\"Disease\",\"No_disease\",\"Disease\",\"No_disease\",\"Disease\",\"Disease\",\"No_disease\",\"Disease\",\"No_disease\",\"No_disease\",\"No_disease\",\"Disease\",\"Disease\",\"Disease\",\"Disease\",\"No_disease\",\"No_disease\",\"No_disease\",\"Disease\",\"No_disease\",\"No_disease\",\"Disease\",\"Disease\",\"No_disease\",\"No_disease\",\"Disease\",\"No_disease\",\"No_disease\",\"No_disease\",\"No_disease\",\"No_disease\",\"No_disease\",\"No_disease\",\"Disease\",\"No_disease\",\"Disease\",\"No_disease\",\"No_disease\",\"Disease\",\"Disease\",\"Disease\",\"Disease\",\"Disease\",\"No_disease\",\"No_disease\",\"Disease\",\"No_disease\",\"No_disease\",\"No_disease\",\"Disease\",\"No_disease\",\"Disease\",\"Disease\",\"Disease\",\"Disease\",\"Disease\",\"No_disease\",\"No_disease\",\"No_disease\",\"No_disease\",\"No_disease\",\"Disease\",\"No_disease\",\"Disease\",\"Disease\",\"No_disease\",\"Disease\",\"No_disease\",\"No_disease\",\"No_disease\",\"Disease\",\"No_disease\",\"Disease\",\"No_disease\",\"Disease\",\"Disease\",\"No_disease\",\"No_disease\",\"No_disease\",\"No_disease\",\"Disease\",\"No_disease\",\"No_disease\",\"No_disease\",\"No_disease\",\"Disease\",\"Disease\",\"Disease\",\"No_disease\",\"No_disease\",\"No_disease\",\"No_disease\",\"No_disease\",\"No_disease\",\"Disease\",\"No_disease\",\"Disease\",\"Disease\",\"Disease\",\"Disease\",\"Disease\",\"No_disease\",\"Disease\",\"No_disease\",\"No_disease\",\"No_disease\",\"Disease\",\"No_disease\",\"Disease\",\"Disease\",\"Disease\",\"No_disease\",\"Disease\",\"Disease\",\"No_disease\",\"Disease\",\"No_disease\",\"Disease\",\"No_disease\",\"No_disease\",\"No_disease\",\"Disease\",\"Disease\",\"No_disease\",\"Disease\",\"Disease\",\"Disease\",\"Disease\",\"No_disease\",\"No_disease\",\"No_disease\",\"Disease\",\"No_disease\",\"No_disease\",\"Disease\",\"Disease\",\"Disease\",\"No_disease\",\"Disease\",\"No_disease\",\"No_disease\",\"No_disease\",\"Disease\",\"No_disease\",\"No_disease\",\"Disease\",\"No_disease\",\"Disease\",\"No_disease\",\"Disease\",\"Disease\",\"Disease\",\"Disease\",\"Disease\",\"No_disease\",\"No_disease\",\"No_disease\",\"No_disease\",\"No_disease\",\"No_disease\",\"No_disease\",\"Disease\",\"No_disease\",\"No_disease\",\"Disease\",\"Disease\",\"Disease\",\"No_disease\",\"Disease\",\"No_disease\",\"No_disease\",\"No_disease\",\"No_disease\",\"No_disease\",\"Disease\",\"No_disease\",\"Disease\",\"Disease\",\"No_disease\",\"No_disease\",\"Disease\",\"Disease\",\"Disease\",\"Disease\",\"No_disease\",\"No_disease\",\"Disease\",\"Disease\",\"No_disease\",\"No_disease\",\"No_disease\",\"Disease\",\"No_disease\",\"No_disease\",\"Disease\",\"No_disease\",\"Disease\",\"No_disease\",\"Disease\",\"No_disease\",\"No_disease\",\"No_disease\",\"No_disease\",\"No_disease\",\"Disease\",\"No_disease\",\"Disease\",\"Disease\",\"Disease\",\"Disease\",\"No_disease\",\"No_disease\",\"No_disease\",\"Disease\",\"No_disease\",\"Disease\",\"No_disease\",\"No_disease\",\"Disease\",\"No_disease\",\"No_disease\",\"No_disease\",\"No_disease\",\"No_disease\",\"No_disease\",\"Disease\",\"Disease\",\"No_disease\",\"Disease\",\"No_disease\",\"No_disease\",\"Disease\",\"Disease\",\"No_disease\",\"No_disease\",\"Disease\",\"Disease\",\"No_disease\",\"Disease\",\"No_disease\",\"Disease\",\"No_disease\",\"Disease\",\"No_disease\",\"No_disease\",\"Disease\",\"No_disease\",\"No_disease\",\"Disease\",\"No_disease\",\"Disease\",\"Disease\",\"No_disease\",\"Disease\",\"Disease\",\"Disease\",\"No_disease\",\"Disease\",\"No_disease\",\"No_disease\",\"No_disease\",\"No_disease\",\"Disease\",\"Disease\",\"No_disease\",\"No_disease\",\"Disease\",\"Disease\",\"No_disease\",\"Disease\",\"No_disease\",\"No_disease\",\"No_disease\",\"No_disease\",\"Disease\",\"No_disease\",\"No_disease\",\"Disease\",\"Disease\",\"Disease\",\"No_disease\",\"No_disease\",\"No_disease\",\"Disease\",\"No_disease\",\"Disease\",\"No_disease\",\"Disease\",\"No_disease\",\"Disease\",\"Disease\",\"Disease\",\"No_disease\",\"No_disease\",\"No_disease\",\"Disease\",\"No_disease\",\"Disease\",\"Disease\",\"Disease\",\"No_disease\",\"Disease\",\"Disease\",\"Disease\",\"Disease\",\"Disease\",\"Disease\",\"No_disease\"],\"x0\":\" \",\"xaxis\":\"x\",\"y\":[289,180,283,214,195,339,237,208,207,284,211,164,204,234,211,273,196,201,248,267,223,184,201,288,215,209,260,284,468,188,518,167,224,172,186,254,306,250,177,227,230,294,264,259,175,318,223,216,340,289,233,205,224,245,180,194,270,213,365,342,253,254,224,277,202,260,297,225,246,412,265,215,182,218,268,163,529,167,100,206,277,238,223,196,213,139,263,216,291,229,208,307,210,329,182,263,207,147,85,269,275,179,392,466,186,260,254,214,129,241,188,255,276,297,207,246,282,338,160,156,248,272,240,393,230,246,161,163,230,228,292,202,388,230,294,265,215,241,166,247,331,341,291,243,279,273,198,249,168,603,215,159,275,270,291,342,190,185,290,195,264,212,263,196,225,272,231,238,222,179,243,235,320,187,266,288,216,287,194,238,225,224,404,238,312,211,251,237,328,285,280,209,245,192,184,193,297,268,246,308,249,230,147,219,184,215,308,257,132,216,263,288,276,219,226,237,280,217,196,263,222,303,195,298,256,264,195,117,295,173,315,281,275,250,309,200,336,295,355,193,326,198,292,266,268,171,237,275,219,341,491,260,292,271,248,274,394,160,200,320,275,221,231,126,193,305,298,220,242,235,225,198,201,220,295,213,160,223,347,253,246,222,220,344,358,190,169,181,308,166,211,257,182,0,0,0,0,0,0,0,0,0,0,0,0,0,0,0,0,0,0,0,0,0,0,0,0,0,0,0,0,0,0,0,0,0,0,0,0,0,0,0,0,0,0,0,0,0,0,0,0,0,0,0,0,0,0,0,0,0,0,0,0,0,0,0,0,0,0,0,0,0,0,0,0,0,0,0,0,0,0,0,0,0,0,0,0,0,0,0,0,0,0,0,0,0,0,0,0,0,0,0,0,0,0,0,0,0,0,0,0,0,0,0,0,0,0,0,0,0,0,0,0,0,0,0,260,209,218,228,213,0,236,0,0,267,166,0,0,0,0,220,177,236,0,0,0,0,0,0,0,0,0,186,100,228,0,171,230,0,0,0,281,0,203,0,0,0,0,0,277,0,233,0,0,240,0,0,153,224,0,0,0,316,0,0,218,0,311,0,0,0,270,0,0,217,214,214,252,220,214,203,0,339,216,276,458,241,384,297,248,308,208,227,210,245,225,240,0,198,195,267,161,258,0,0,195,235,0,305,223,282,349,160,160,236,312,283,142,211,218,306,186,252,222,0,0,258,202,197,204,113,274,192,298,272,220,200,261,181,260,220,221,216,175,219,310,208,232,273,203,182,274,204,270,292,171,221,289,217,223,110,193,123,210,282,170,369,173,289,152,208,216,271,244,285,243,240,219,237,165,213,287,258,256,186,264,185,226,203,207,284,337,310,254,258,254,300,170,310,333,139,223,385,254,322,564,261,263,269,177,256,239,293,407,234,226,235,234,303,149,311,203,211,199,229,245,303,204,288,275,243,295,230,265,229,228,215,326,200,256,207,273,180,222,223,209,233,197,218,211,149,197,246,225,315,205,417,195,234,198,166,178,249,281,126,305,226,240,233,276,261,319,242,243,260,354,245,197,223,309,208,199,209,236,218,198,270,214,201,244,208,270,306,243,221,330,266,206,212,275,302,234,313,244,141,237,269,289,254,274,222,258,177,160,327,235,305,304,295,271,249,288,226,283,188,286,274,360,273,201,267,196,201,230,269,212,226,246,232,177,277,249,210,207,212,271,233,213,283,282,230,167,224,268,250,219,267,303,256,204,217,308,193,228,231,244,262,259,211,325,254,197,236,282,234,254,299,211,182,294,298,231,254,196,240,409,172,265,246,315,184,233,394,269,239,174,309,282,255,250,248,214,239,304,277,300,258,299,289,298,318,240,309,250,288,245,213,216,204,204,252,227,258,220,239,254,168,330,183,203,263,341,283,186,307,219,260,255,231,164,234,177,257,325,274,321,264,268,308,253,248,269,185,282,188,219,290,175,212,302,243,353,335,247,340,206,284,266,229,199,263,294,192,286,216,223,247,204,204,227,278,220,232,197,335,253,205,192,203,318,225,220,221,240,212,342,169,187,197,157,176,241,264,193,131,236,175],\"y0\":\" \",\"yaxis\":\"y\",\"type\":\"box\"}],                        {\"template\":{\"data\":{\"bar\":[{\"error_x\":{\"color\":\"#2a3f5f\"},\"error_y\":{\"color\":\"#2a3f5f\"},\"marker\":{\"line\":{\"color\":\"#E5ECF6\",\"width\":0.5},\"pattern\":{\"fillmode\":\"overlay\",\"size\":10,\"solidity\":0.2}},\"type\":\"bar\"}],\"barpolar\":[{\"marker\":{\"line\":{\"color\":\"#E5ECF6\",\"width\":0.5},\"pattern\":{\"fillmode\":\"overlay\",\"size\":10,\"solidity\":0.2}},\"type\":\"barpolar\"}],\"carpet\":[{\"aaxis\":{\"endlinecolor\":\"#2a3f5f\",\"gridcolor\":\"white\",\"linecolor\":\"white\",\"minorgridcolor\":\"white\",\"startlinecolor\":\"#2a3f5f\"},\"baxis\":{\"endlinecolor\":\"#2a3f5f\",\"gridcolor\":\"white\",\"linecolor\":\"white\",\"minorgridcolor\":\"white\",\"startlinecolor\":\"#2a3f5f\"},\"type\":\"carpet\"}],\"choropleth\":[{\"colorbar\":{\"outlinewidth\":0,\"ticks\":\"\"},\"type\":\"choropleth\"}],\"contour\":[{\"colorbar\":{\"outlinewidth\":0,\"ticks\":\"\"},\"colorscale\":[[0.0,\"#0d0887\"],[0.1111111111111111,\"#46039f\"],[0.2222222222222222,\"#7201a8\"],[0.3333333333333333,\"#9c179e\"],[0.4444444444444444,\"#bd3786\"],[0.5555555555555556,\"#d8576b\"],[0.6666666666666666,\"#ed7953\"],[0.7777777777777778,\"#fb9f3a\"],[0.8888888888888888,\"#fdca26\"],[1.0,\"#f0f921\"]],\"type\":\"contour\"}],\"contourcarpet\":[{\"colorbar\":{\"outlinewidth\":0,\"ticks\":\"\"},\"type\":\"contourcarpet\"}],\"heatmap\":[{\"colorbar\":{\"outlinewidth\":0,\"ticks\":\"\"},\"colorscale\":[[0.0,\"#0d0887\"],[0.1111111111111111,\"#46039f\"],[0.2222222222222222,\"#7201a8\"],[0.3333333333333333,\"#9c179e\"],[0.4444444444444444,\"#bd3786\"],[0.5555555555555556,\"#d8576b\"],[0.6666666666666666,\"#ed7953\"],[0.7777777777777778,\"#fb9f3a\"],[0.8888888888888888,\"#fdca26\"],[1.0,\"#f0f921\"]],\"type\":\"heatmap\"}],\"heatmapgl\":[{\"colorbar\":{\"outlinewidth\":0,\"ticks\":\"\"},\"colorscale\":[[0.0,\"#0d0887\"],[0.1111111111111111,\"#46039f\"],[0.2222222222222222,\"#7201a8\"],[0.3333333333333333,\"#9c179e\"],[0.4444444444444444,\"#bd3786\"],[0.5555555555555556,\"#d8576b\"],[0.6666666666666666,\"#ed7953\"],[0.7777777777777778,\"#fb9f3a\"],[0.8888888888888888,\"#fdca26\"],[1.0,\"#f0f921\"]],\"type\":\"heatmapgl\"}],\"histogram\":[{\"marker\":{\"pattern\":{\"fillmode\":\"overlay\",\"size\":10,\"solidity\":0.2}},\"type\":\"histogram\"}],\"histogram2d\":[{\"colorbar\":{\"outlinewidth\":0,\"ticks\":\"\"},\"colorscale\":[[0.0,\"#0d0887\"],[0.1111111111111111,\"#46039f\"],[0.2222222222222222,\"#7201a8\"],[0.3333333333333333,\"#9c179e\"],[0.4444444444444444,\"#bd3786\"],[0.5555555555555556,\"#d8576b\"],[0.6666666666666666,\"#ed7953\"],[0.7777777777777778,\"#fb9f3a\"],[0.8888888888888888,\"#fdca26\"],[1.0,\"#f0f921\"]],\"type\":\"histogram2d\"}],\"histogram2dcontour\":[{\"colorbar\":{\"outlinewidth\":0,\"ticks\":\"\"},\"colorscale\":[[0.0,\"#0d0887\"],[0.1111111111111111,\"#46039f\"],[0.2222222222222222,\"#7201a8\"],[0.3333333333333333,\"#9c179e\"],[0.4444444444444444,\"#bd3786\"],[0.5555555555555556,\"#d8576b\"],[0.6666666666666666,\"#ed7953\"],[0.7777777777777778,\"#fb9f3a\"],[0.8888888888888888,\"#fdca26\"],[1.0,\"#f0f921\"]],\"type\":\"histogram2dcontour\"}],\"mesh3d\":[{\"colorbar\":{\"outlinewidth\":0,\"ticks\":\"\"},\"type\":\"mesh3d\"}],\"parcoords\":[{\"line\":{\"colorbar\":{\"outlinewidth\":0,\"ticks\":\"\"}},\"type\":\"parcoords\"}],\"pie\":[{\"automargin\":true,\"type\":\"pie\"}],\"scatter\":[{\"marker\":{\"colorbar\":{\"outlinewidth\":0,\"ticks\":\"\"}},\"type\":\"scatter\"}],\"scatter3d\":[{\"line\":{\"colorbar\":{\"outlinewidth\":0,\"ticks\":\"\"}},\"marker\":{\"colorbar\":{\"outlinewidth\":0,\"ticks\":\"\"}},\"type\":\"scatter3d\"}],\"scattercarpet\":[{\"marker\":{\"colorbar\":{\"outlinewidth\":0,\"ticks\":\"\"}},\"type\":\"scattercarpet\"}],\"scattergeo\":[{\"marker\":{\"colorbar\":{\"outlinewidth\":0,\"ticks\":\"\"}},\"type\":\"scattergeo\"}],\"scattergl\":[{\"marker\":{\"colorbar\":{\"outlinewidth\":0,\"ticks\":\"\"}},\"type\":\"scattergl\"}],\"scattermapbox\":[{\"marker\":{\"colorbar\":{\"outlinewidth\":0,\"ticks\":\"\"}},\"type\":\"scattermapbox\"}],\"scatterpolar\":[{\"marker\":{\"colorbar\":{\"outlinewidth\":0,\"ticks\":\"\"}},\"type\":\"scatterpolar\"}],\"scatterpolargl\":[{\"marker\":{\"colorbar\":{\"outlinewidth\":0,\"ticks\":\"\"}},\"type\":\"scatterpolargl\"}],\"scatterternary\":[{\"marker\":{\"colorbar\":{\"outlinewidth\":0,\"ticks\":\"\"}},\"type\":\"scatterternary\"}],\"surface\":[{\"colorbar\":{\"outlinewidth\":0,\"ticks\":\"\"},\"colorscale\":[[0.0,\"#0d0887\"],[0.1111111111111111,\"#46039f\"],[0.2222222222222222,\"#7201a8\"],[0.3333333333333333,\"#9c179e\"],[0.4444444444444444,\"#bd3786\"],[0.5555555555555556,\"#d8576b\"],[0.6666666666666666,\"#ed7953\"],[0.7777777777777778,\"#fb9f3a\"],[0.8888888888888888,\"#fdca26\"],[1.0,\"#f0f921\"]],\"type\":\"surface\"}],\"table\":[{\"cells\":{\"fill\":{\"color\":\"#EBF0F8\"},\"line\":{\"color\":\"white\"}},\"header\":{\"fill\":{\"color\":\"#C8D4E3\"},\"line\":{\"color\":\"white\"}},\"type\":\"table\"}]},\"layout\":{\"annotationdefaults\":{\"arrowcolor\":\"#2a3f5f\",\"arrowhead\":0,\"arrowwidth\":1},\"autotypenumbers\":\"strict\",\"coloraxis\":{\"colorbar\":{\"outlinewidth\":0,\"ticks\":\"\"}},\"colorscale\":{\"diverging\":[[0,\"#8e0152\"],[0.1,\"#c51b7d\"],[0.2,\"#de77ae\"],[0.3,\"#f1b6da\"],[0.4,\"#fde0ef\"],[0.5,\"#f7f7f7\"],[0.6,\"#e6f5d0\"],[0.7,\"#b8e186\"],[0.8,\"#7fbc41\"],[0.9,\"#4d9221\"],[1,\"#276419\"]],\"sequential\":[[0.0,\"#0d0887\"],[0.1111111111111111,\"#46039f\"],[0.2222222222222222,\"#7201a8\"],[0.3333333333333333,\"#9c179e\"],[0.4444444444444444,\"#bd3786\"],[0.5555555555555556,\"#d8576b\"],[0.6666666666666666,\"#ed7953\"],[0.7777777777777778,\"#fb9f3a\"],[0.8888888888888888,\"#fdca26\"],[1.0,\"#f0f921\"]],\"sequentialminus\":[[0.0,\"#0d0887\"],[0.1111111111111111,\"#46039f\"],[0.2222222222222222,\"#7201a8\"],[0.3333333333333333,\"#9c179e\"],[0.4444444444444444,\"#bd3786\"],[0.5555555555555556,\"#d8576b\"],[0.6666666666666666,\"#ed7953\"],[0.7777777777777778,\"#fb9f3a\"],[0.8888888888888888,\"#fdca26\"],[1.0,\"#f0f921\"]]},\"colorway\":[\"#636efa\",\"#EF553B\",\"#00cc96\",\"#ab63fa\",\"#FFA15A\",\"#19d3f3\",\"#FF6692\",\"#B6E880\",\"#FF97FF\",\"#FECB52\"],\"font\":{\"color\":\"#2a3f5f\"},\"geo\":{\"bgcolor\":\"white\",\"lakecolor\":\"white\",\"landcolor\":\"#E5ECF6\",\"showlakes\":true,\"showland\":true,\"subunitcolor\":\"white\"},\"hoverlabel\":{\"align\":\"left\"},\"hovermode\":\"closest\",\"mapbox\":{\"style\":\"light\"},\"paper_bgcolor\":\"white\",\"plot_bgcolor\":\"#E5ECF6\",\"polar\":{\"angularaxis\":{\"gridcolor\":\"white\",\"linecolor\":\"white\",\"ticks\":\"\"},\"bgcolor\":\"#E5ECF6\",\"radialaxis\":{\"gridcolor\":\"white\",\"linecolor\":\"white\",\"ticks\":\"\"}},\"scene\":{\"xaxis\":{\"backgroundcolor\":\"#E5ECF6\",\"gridcolor\":\"white\",\"gridwidth\":2,\"linecolor\":\"white\",\"showbackground\":true,\"ticks\":\"\",\"zerolinecolor\":\"white\"},\"yaxis\":{\"backgroundcolor\":\"#E5ECF6\",\"gridcolor\":\"white\",\"gridwidth\":2,\"linecolor\":\"white\",\"showbackground\":true,\"ticks\":\"\",\"zerolinecolor\":\"white\"},\"zaxis\":{\"backgroundcolor\":\"#E5ECF6\",\"gridcolor\":\"white\",\"gridwidth\":2,\"linecolor\":\"white\",\"showbackground\":true,\"ticks\":\"\",\"zerolinecolor\":\"white\"}},\"shapedefaults\":{\"line\":{\"color\":\"#2a3f5f\"}},\"ternary\":{\"aaxis\":{\"gridcolor\":\"white\",\"linecolor\":\"white\",\"ticks\":\"\"},\"baxis\":{\"gridcolor\":\"white\",\"linecolor\":\"white\",\"ticks\":\"\"},\"bgcolor\":\"#E5ECF6\",\"caxis\":{\"gridcolor\":\"white\",\"linecolor\":\"white\",\"ticks\":\"\"}},\"title\":{\"x\":0.05},\"xaxis\":{\"automargin\":true,\"gridcolor\":\"white\",\"linecolor\":\"white\",\"ticks\":\"\",\"title\":{\"standoff\":15},\"zerolinecolor\":\"white\",\"zerolinewidth\":2},\"yaxis\":{\"automargin\":true,\"gridcolor\":\"white\",\"linecolor\":\"white\",\"ticks\":\"\",\"title\":{\"standoff\":15},\"zerolinecolor\":\"white\",\"zerolinewidth\":2}}},\"xaxis\":{\"anchor\":\"y\",\"domain\":[0.0,1.0],\"title\":{\"text\":\"HeartDisease\"}},\"yaxis\":{\"anchor\":\"x\",\"domain\":[0.0,1.0],\"title\":{\"text\":\"Cholesterol\"}},\"legend\":{\"tracegroupgap\":0},\"margin\":{\"t\":60},\"boxmode\":\"group\"},                        {\"responsive\": true}                    ).then(function(){\n",
              "                            \n",
              "var gd = document.getElementById('14ee65d9-4c0b-4369-bb77-f515846f0e4d');\n",
              "var x = new MutationObserver(function (mutations, observer) {{\n",
              "        var display = window.getComputedStyle(gd).display;\n",
              "        if (!display || display === 'none') {{\n",
              "            console.log([gd, 'removed!']);\n",
              "            Plotly.purge(gd);\n",
              "            observer.disconnect();\n",
              "        }}\n",
              "}});\n",
              "\n",
              "// Listen for the removal of the full notebook cells\n",
              "var notebookContainer = gd.closest('#notebook-container');\n",
              "if (notebookContainer) {{\n",
              "    x.observe(notebookContainer, {childList: true});\n",
              "}}\n",
              "\n",
              "// Listen for the clearing of the current output cell\n",
              "var outputEl = gd.closest('.output');\n",
              "if (outputEl) {{\n",
              "    x.observe(outputEl, {childList: true});\n",
              "}}\n",
              "\n",
              "                        })                };                            </script>        </div>\n",
              "</body>\n",
              "</html>"
            ]
          },
          "metadata": {}
        }
      ],
      "source": [
        "fig = px.box(df, x=\"HeartDisease\", y=\"Cholesterol\")\n",
        "fig.show()\n"
      ]
    },
    {
      "cell_type": "markdown",
      "metadata": {
        "id": "nFjaRwXCVsDh"
      },
      "source": [
        "Now, let’s define and list out the outliers..!!"
      ]
    },
    {
      "cell_type": "code",
      "execution_count": null,
      "metadata": {
        "colab": {
          "base_uri": "https://localhost:8080/"
        },
        "id": "8GJhg-14VtFs",
        "outputId": "e512b2aa-82cc-4a0c-929b-b89e82612530"
      },
      "outputs": [
        {
          "output_type": "stream",
          "name": "stdout",
          "text": [
            "For the feature Age, No of Outliers is 0\n",
            "For the feature RestingBP, No of Outliers is 28\n",
            "For the feature Cholesterol, No of Outliers is 183\n",
            "For the feature Oldpeak, No of Outliers is 16\n"
          ]
        }
      ],
      "source": [
        "# define continuous variable & plot\n",
        "continous_features = ['Age','RestingBP','Cholesterol','Oldpeak']\n",
        "## Developing a function to print the variable and number of outliers in it.  \n",
        "def outliers(df_out, drop = False):\n",
        "    for each_feature in df_out.columns:  ## This loop will run through every columns of the cotinuous data frame\n",
        "        feature_data = df_out[each_feature]  ## The feature_data will exttract the values of the selected cloumn\n",
        "        Q1 = np.percentile(feature_data, 25.) # 25th percentile of the data of the given feature\n",
        "        Q3 = np.percentile(feature_data, 75.) # 75th percentile of the data of the given feature\n",
        "        IQR = Q3-Q1 #Interquartile Range\n",
        "        outlier_step = IQR * 1.5 #That's we were talking about above\n",
        "        outliers = feature_data[~((feature_data >= Q1 - outlier_step) & (feature_data <= Q3 + outlier_step))].index.tolist()  ## This will give the ouliers \n",
        "        if not drop:\n",
        "            print('For the feature {}, No of Outliers is {}'.format(each_feature, len(outliers))) ## This will be printed when there is no outlier\n",
        "        if drop:\n",
        "            df.drop(outliers, inplace = True, errors = 'ignore')\n",
        "            print('Outliers from {} feature removed'.format(each_feature))\n",
        "\n",
        "outliers(df[continous_features])\n"
      ]
    },
    {
      "cell_type": "markdown",
      "metadata": {
        "id": "eIgKMWD6WLBG"
      },
      "source": [
        "Let’s drop the outliers."
      ]
    },
    {
      "cell_type": "code",
      "execution_count": null,
      "metadata": {
        "colab": {
          "base_uri": "https://localhost:8080/"
        },
        "id": "GNURPIO2WMBy",
        "outputId": "0b0b63c4-9e42-4797-8a59-2bedc9c5c495"
      },
      "outputs": [
        {
          "output_type": "stream",
          "name": "stdout",
          "text": [
            "Outliers from Age feature removed\n",
            "Outliers from RestingBP feature removed\n",
            "Outliers from Cholesterol feature removed\n",
            "Outliers from Oldpeak feature removed\n"
          ]
        }
      ],
      "source": [
        "outliers(df[continous_features],drop=True) ## Removing outlier"
      ]
    },
    {
      "cell_type": "markdown",
      "source": [
        "The number of outlier is not that much so dropiing this will not effect the analysis but if the ouotlier are like more that 1/3 of the data then we have to look for alternative information regarding the data and take different measure to work with the data."
      ],
      "metadata": {
        "id": "6TcLHNOIVqCG"
      }
    },
    {
      "cell_type": "markdown",
      "metadata": {
        "id": "75B-zG4uWYVt"
      },
      "source": [
        "Distributions and relationship."
      ]
    },
    {
      "cell_type": "code",
      "execution_count": null,
      "metadata": {
        "colab": {
          "base_uri": "https://localhost:8080/",
          "height": 349
        },
        "id": "gYEbqKoRWZZV",
        "outputId": "04df3ff7-7990-400c-9e48-905eabf6d6f0"
      },
      "outputs": [
        {
          "output_type": "stream",
          "name": "stdout",
          "text": [
            "No_disease    377\n",
            "Disease       325\n",
            "Name: HeartDisease, dtype: int64\n"
          ]
        },
        {
          "output_type": "display_data",
          "data": {
            "text/plain": [
              "<Figure size 360x288 with 1 Axes>"
            ],
            "image/png": "[encoded data removed]"
          },
          "metadata": {
            "needs_background": "light"
          }
        }
      ],
      "source": [
        "print(df.HeartDisease.value_counts())\n",
        "\n",
        "fig, ax = plt.subplots(figsize=(5,4)) ##Here we want to fixed the plot size\n",
        "name = [\"Disease\", \"No_Disease\"]\n",
        "ax = df.HeartDisease.value_counts().plot(kind='bar')\n",
        "ax.set_title(\"Heart Disease Classes\", fontsize = 13, weight = 'bold')\n",
        "ax.set_xticklabels (name, rotation = 0)\n",
        "\n",
        "# To calculate the percentage\n",
        "totals = []\n",
        "for i in ax.patches:\n",
        "    totals.append(i.get_height())\n",
        "total = sum(totals)\n",
        "for i in ax.patches:\n",
        "    ax.text(i.get_x()+.09, i.get_height()-50, \\\n",
        "            str(round((i.get_height()/total)*100, 2))+'%', fontsize=14,\n",
        "                color='white', weight = 'bold')\n",
        "plt.tight_layout()\n"
      ]
    },
    {
      "cell_type": "markdown",
      "metadata": {
        "id": "73deqDwvW0m3"
      },
      "source": [
        "Age variable distribution"
      ]
    },
    {
      "cell_type": "code",
      "execution_count": null,
      "metadata": {
        "colab": {
          "base_uri": "https://localhost:8080/",
          "height": 298
        },
        "id": "i8bBUs-EW2aj",
        "outputId": "603b42c6-fb29-45b9-d13d-562ff8b32491"
      },
      "outputs": [
        {
          "output_type": "execute_result",
          "data": {
            "text/plain": [
              "Text(0.5, 1.0, 'Age Distribution')"
            ]
          },
          "metadata": {},
          "execution_count": 20
        },
        {
          "output_type": "display_data",
          "data": {
            "text/plain": [
              "<Figure size 432x288 with 1 Axes>"
            ],
            "image/png": "[encoded data removed]"
          },
          "metadata": {
            "needs_background": "light"
          }
        }
      ],
      "source": [
        "# print(df.age.value_counts())\n",
        "df['Age'].hist().plot(kind='bar')\n",
        "plt.title('Age Distribution')\n"
      ]
    },
    {
      "cell_type": "code",
      "execution_count": null,
      "metadata": {
        "colab": {
          "base_uri": "https://localhost:8080/",
          "height": 487
        },
        "id": "A1eXLShDXNvf",
        "outputId": "79a42ca0-de15-4a26-b375-8094b68d0fec"
      },
      "outputs": [
        {
          "output_type": "stream",
          "name": "stdout",
          "text": [
            "54    44\n",
            "58    33\n",
            "55    32\n",
            "57    29\n",
            "48    29\n",
            "52    28\n",
            "56    26\n",
            "51    25\n",
            "62    24\n",
            "59    23\n",
            "Name: Age, dtype: int64\n"
          ]
        },
        {
          "output_type": "execute_result",
          "data": {
            "text/plain": [
              "Text(0, 0.5, 'Age distribution')"
            ]
          },
          "metadata": {},
          "execution_count": 21
        },
        {
          "output_type": "display_data",
          "data": {
            "text/plain": [
              "<Figure size 432x288 with 1 Axes>"
            ],
            "image/png": "[encoded data removed]"
          },
          "metadata": {
            "needs_background": "light"
          }
        }
      ],
      "source": [
        "# Analyze distribution in age in range 10\n",
        "print(df.Age.value_counts()[:10])\n",
        "sns.barplot(x=df.Age.value_counts()[:10].index,\n",
        "y=df.Age.value_counts()[:10].values,\n",
        "palette='Set2')\n",
        "plt.xlabel('Age')\n",
        "plt.ylabel('Age distribution')\n"
      ]
    },
    {
      "cell_type": "markdown",
      "metadata": {
        "id": "UGyFlgRgXqKz"
      },
      "source": [
        "Most of the patients are in the age between 45s to 60s. Let’s take a quick look basic stats. The mean age is about 54 years with ±9.08 std, the youngest is at 29 and the oldest is at 77.\n",
        "\n"
      ]
    },
    {
      "cell_type": "code",
      "execution_count": null,
      "metadata": {
        "colab": {
          "base_uri": "https://localhost:8080/"
        },
        "id": "O4AHsg4QX_Pd",
        "outputId": "68b44ae0-7d63-44db-8722-c3d52df3c518"
      },
      "outputs": [
        {
          "output_type": "stream",
          "name": "stdout",
          "text": [
            "28\n",
            "77\n",
            "52.72222222222222\n"
          ]
        }
      ],
      "source": [
        "## To Know the yougest and oldest in age\n",
        "print(min(df['Age']))\n",
        "print(max(df['Age']))\n",
        "print(df['Age'].mean())"
      ]
    },
    {
      "cell_type": "markdown",
      "metadata": {
        "id": "VYSZSvUXYnFA"
      },
      "source": [
        "Gender distribution according to target variable"
      ]
    },
    {
      "cell_type": "code",
      "execution_count": null,
      "metadata": {
        "colab": {
          "base_uri": "https://localhost:8080/"
        },
        "id": "C1hDaAb0Ynyg",
        "outputId": "4b905f31-3225-4882-e620-3da49471bcb7"
      },
      "outputs": [
        {
          "output_type": "display_data",
          "data": {
            "text/plain": [
              "<Figure size 576x360 with 1 Axes>"
            ],
            "image/png": "[encoded data removed]"
          },
          "metadata": {
            "needs_background": "light"
          }
        }
      ],
      "source": [
        "fig, ax = plt.subplots(figsize=(8,5))\n",
        "name = df['Sex']\n",
        "ax = sns.countplot(x='Sex', hue='HeartDisease', data=df, palette='Set2')\n",
        "ax.set_title(\"Sex Distribution according to Target\", fontsize = 13, weight = 'bold')\n",
        "ax.set_xticklabels (name, rotation = 0)\n",
        "\n",
        "totals = []\n",
        "for i in ax.patches:\n",
        "    totals.append(i.get_height())\n",
        "total = sum(totals)\n",
        "for i in ax.patches:\n",
        "    ax.text(i.get_x()+.05, i.get_height()-15,\n",
        "            str(round((i.get_height()/total)*100, 2))+'%', fontsize=14,\n",
        "                color='white', weight = 'bold')  \n",
        "plt.tight_layout()"
      ]
    },
    {
      "cell_type": "markdown",
      "metadata": {
        "id": "4v9Nk3xgY88x"
      },
      "source": [
        "From the bar graph, we can observe that among disease patients, male are higher than female.\n",
        "\n"
      ]
    },
    {
      "cell_type": "markdown",
      "metadata": {
        "id": "913J95V3Y-G2"
      },
      "source": [
        "Chest pain distribution according to target variable"
      ]
    },
    {
      "cell_type": "code",
      "execution_count": null,
      "metadata": {
        "colab": {
          "base_uri": "https://localhost:8080/"
        },
        "id": "VcFWoT_fZBcJ",
        "outputId": "9a2fedfd-6639-4409-bb73-0cce797fb8da"
      },
      "outputs": [
        {
          "output_type": "display_data",
          "data": {
            "text/plain": [
              "<Figure size 720x360 with 1 Axes>"
            ],
            "image/png": "[encoded data removed]"
          },
          "metadata": {
            "needs_background": "light"
          }
        }
      ],
      "source": [
        "fig, ax = plt.subplots(figsize=(10,5))\n",
        "name = df['ChestPainType']\n",
        "ax = sns.countplot(x='ChestPainType', hue='HeartDisease', data=df, palette='Set2')\n",
        "ax.set_title(\"Chest Pain Distribution according to Target\", fontsize = 13, weight = 'bold')\n",
        "ax.set_xticklabels (name, rotation = 0)\n",
        "\n",
        "totals = []\n",
        "for i in ax.patches:\n",
        "    totals.append(i.get_height())\n",
        "total = sum(totals)\n",
        "for i in ax.patches:\n",
        "    ax.text(i.get_x()+.03, i.get_height()-8,\n",
        "            str(round((i.get_height()/total)*100, 2))+'%', fontsize=14,\n",
        "                color='white', weight = 'bold')"
      ]
    },
    {
      "cell_type": "markdown",
      "metadata": {
        "id": "CZPyYSNkZg81"
      },
      "source": [
        "Chest pain (cp) or angina is a type of discomfort caused when heart muscle doesn’t receive enough oxygen rich blood, which triggered discomfort in arms, shoulders, neck, etc.\n",
        "\n",
        "However, looking at the bar graph above, its raised a question of higher number of healthy subject having typical_angina.Chest pain can be subjective due to stress, physical activities and many more and varies between gender. Women and elderly patients usually have atypical symptoms with a history of disease. \n",
        "\n"
      ]
    },
    {
      "cell_type": "markdown",
      "metadata": {
        "id": "VMJQq8LZZ5wF"
      },
      "source": [
        "Fasting blood sugar distribution according to target variable"
      ]
    },
    {
      "cell_type": "code",
      "execution_count": null,
      "metadata": {
        "colab": {
          "base_uri": "https://localhost:8080/"
        },
        "id": "8crppFgfZ8np",
        "outputId": "f974a316-ff82-4fd1-ba85-5f6cfabdb61b"
      },
      "outputs": [
        {
          "output_type": "display_data",
          "data": {
            "text/plain": [
              "<Figure size 720x360 with 1 Axes>"
            ],
            "image/png": "[encoded data removed]"
          },
          "metadata": {
            "needs_background": "light"
          }
        }
      ],
      "source": [
        "fig, ax = plt.subplots(figsize=(10,5))\n",
        "name = dataset['FastingBS']\n",
        "ax = sns.countplot(x='FastingBS', hue='HeartDisease', data=dataset, palette='Set2')\n",
        "ax.set_title(\"Fasting Blood Suger to Target\", fontsize = 13, weight = 'bold')\n",
        "ax.set_xticklabels (name, rotation = 0)\n",
        "\n",
        "totals = []\n",
        "for i in ax.patches:\n",
        "    totals.append(i.get_height())\n",
        "total = sum(totals)\n",
        "for i in ax.patches:\n",
        "    ax.text(i.get_x()+.03, i.get_height()-14,\n",
        "            str(round((i.get_height()/total)*100, 2))+'%', fontsize=14,\n",
        "                color='white', weight = 'bold')"
      ]
    },
    {
      "cell_type": "code",
      "execution_count": null,
      "metadata": {
        "colab": {
          "base_uri": "https://localhost:8080/"
        },
        "id": "xHm0iKjwNeX6",
        "outputId": "7e0d95fe-5760-46cc-d2b7-c30d8ef5dd15"
      },
      "outputs": [
        {
          "output_type": "stream",
          "name": "stdout",
          "text": [
            "<class 'pandas.core.frame.DataFrame'>\n",
            "RangeIndex: 918 entries, 0 to 917\n",
            "Data columns (total 12 columns):\n",
            " #   Column          Non-Null Count  Dtype  \n",
            "---  ------          --------------  -----  \n",
            " 0   Age             918 non-null    int64  \n",
            " 1   Sex             918 non-null    object \n",
            " 2   ChestPainType   918 non-null    object \n",
            " 3   RestingBP       918 non-null    int64  \n",
            " 4   Cholesterol     918 non-null    int64  \n",
            " 5   FastingBS       918 non-null    int64  \n",
            " 6   RestingECG      918 non-null    object \n",
            " 7   MaxHR           918 non-null    int64  \n",
            " 8   ExerciseAngina  918 non-null    object \n",
            " 9   Oldpeak         918 non-null    float64\n",
            " 10  ST_Slope        918 non-null    object \n",
            " 11  HeartDisease    918 non-null    int64  \n",
            "dtypes: float64(1), int64(6), object(5)\n",
            "memory usage: 86.2+ KB\n",
            "['M' 'F']\n",
            "<class 'pandas.core.frame.DataFrame'>\n",
            "RangeIndex: 918 entries, 0 to 917\n",
            "Data columns (total 21 columns):\n",
            " #   Column             Non-Null Count  Dtype  \n",
            "---  ------             --------------  -----  \n",
            " 0   Age                918 non-null    int64  \n",
            " 1   RestingBP          918 non-null    int64  \n",
            " 2   Cholesterol        918 non-null    int64  \n",
            " 3   FastingBS          918 non-null    int64  \n",
            " 4   MaxHR              918 non-null    int64  \n",
            " 5   Oldpeak            918 non-null    float64\n",
            " 6   HeartDisease       918 non-null    int64  \n",
            " 7   Sex_F              918 non-null    uint8  \n",
            " 8   Sex_M              918 non-null    uint8  \n",
            " 9   ChestPainType_ASY  918 non-null    uint8  \n",
            " 10  ChestPainType_ATA  918 non-null    uint8  \n",
            " 11  ChestPainType_NAP  918 non-null    uint8  \n",
            " 12  ChestPainType_TA   918 non-null    uint8  \n",
            " 13  RestingECG_LVH     918 non-null    uint8  \n",
            " 14  RestingECG_Normal  918 non-null    uint8  \n",
            " 15  RestingECG_ST      918 non-null    uint8  \n",
            " 16  ExerciseAngina_N   918 non-null    uint8  \n",
            " 17  ExerciseAngina_Y   918 non-null    uint8  \n",
            " 18  ST_Slope_Down      918 non-null    uint8  \n",
            " 19  ST_Slope_Flat      918 non-null    uint8  \n",
            " 20  ST_Slope_Up        918 non-null    uint8  \n",
            "dtypes: float64(1), int64(6), uint8(14)\n",
            "memory usage: 62.9 KB\n"
          ]
        }
      ],
      "source": [
        "import pandas as pd\n",
        "dataset = pd.read_csv(\"/content/heart.csv\")\n",
        "dataset.info() \n",
        "print(dataset['Sex'].unique())\n",
        "one_hot_encoded_data = pd.get_dummies(dataset, columns = ['Sex','ChestPainType','RestingECG','ExerciseAngina','ST_Slope'])\n",
        "# print(one_hot_encoded_data)\n",
        "one_hot_encoded_data.info()\n",
        "x = one_hot_encoded_data.iloc[:, [0,1,2,3,4,5,7,8,9,10,11,12,13,14,15,16,17,19,20]].values\n",
        "y = one_hot_encoded_data.iloc[:, 6].values\n",
        "# dataset.head(5)\n",
        "\n",
        "from sklearn.model_selection import train_test_split\n",
        "x_train, x_test, y_train, y_test = train_test_split(x, y, test_size = 0.25)"
      ]
    },
    {
      "cell_type": "markdown",
      "metadata": {
        "id": "SeyKKhZ1NeX7"
      },
      "source": [
        "#### b) Check out the dataset"
      ]
    },
    {
      "cell_type": "code",
      "execution_count": null,
      "metadata": {
        "colab": {
          "base_uri": "https://localhost:8080/"
        },
        "id": "ekJU18FSNeX7",
        "outputId": "f2fc27a4-20cd-4c05-fd31-5e6f6c181696"
      },
      "outputs": [
        {
          "output_type": "stream",
          "name": "stdout",
          "text": [
            "(688, 19)\n",
            "(230, 19)\n",
            "(688,)\n",
            "(230,)\n",
            "[ 55.  133.  185.    0.  136.    0.2   0.    1.    0.    0.    1.    0.\n",
            "   0.    0.    1.    1.    0.    0.    1. ]\n"
          ]
        }
      ],
      "source": [
        "# check otu a sample\n",
        "print(x_train.shape)\n",
        "print(x_test.shape)\n",
        "print(y_train.shape)\n",
        "print(y_test.shape)\n",
        "\n",
        "print(x_train[5])"
      ]
    },
    {
      "cell_type": "code",
      "execution_count": null,
      "metadata": {
        "id": "aqryCAx6NeX9"
      },
      "outputs": [],
      "source": [
        "# ## Scaling the data test\n",
        "# from sklearn.preprocessing import StandardScaler\n",
        "# from sklearn.preprocessing import MinMaxScaler\n",
        "# # define standard scaler\n",
        "# # scaler = StandardScaler()\n",
        "# # scaled = scaler.fit_transform(x_train)\n",
        "# # print(scaled)\n",
        "# ##\n",
        "# scaler = MinMaxScaler()\n",
        "# x_train = scaler.fit_transform(x_train)\n",
        "# x_test=scaler.fit_transform(x_test)\n",
        "\n",
        "# # print(scaled)"
      ]
    },
    {
      "cell_type": "markdown",
      "metadata": {
        "id": "kGMRJLwpNeX9"
      },
      "source": [
        "# 1. Naive Bayes\n",
        "Sklearn Documentation: \n",
        "* Naive Bayes: https://scikit-learn.org/stable/modules/naive_bayes.html\n",
        "* MultinomialNB: https://scikit-learn.org/stable/modules/generated/sklearn.naive_bayes.MultinomialNB.html#sklearn.naive_bayes.MultinomialNB"
      ]
    },
    {
      "cell_type": "code",
      "execution_count": null,
      "metadata": {
        "colab": {
          "base_uri": "https://localhost:8080/"
        },
        "id": "fcCy1hT5NeX-",
        "outputId": "916afcb0-1552-441c-dffa-05f662e6906e"
      },
      "outputs": [
        {
          "output_type": "stream",
          "name": "stdout",
          "text": [
            "train shape: (688, 19)\n",
            "score on test: 0.8347826086956521\n",
            "score on train: 0.8706395348837209\n",
            "CPU times: user 10.8 ms, sys: 926 µs, total: 11.7 ms\n",
            "Wall time: 15.1 ms\n"
          ]
        }
      ],
      "source": [
        "%%time\n",
        "\n",
        "from sklearn.naive_bayes import MultinomialNB ## we MultinomialNB\n",
        "from sklearn.preprocessing import MinMaxScaler ## \n",
        "\n",
        "scaler = MinMaxScaler()\n",
        "x1_train = scaler.fit_transform(x_train)\n",
        "x1_test=scaler.fit_transform(x_test)\n",
        "\n",
        "mnb = MultinomialNB().fit(x1_train, y_train)\n",
        "\n",
        "print(\"train shape: \" + str(x_train.shape))\n",
        "print(\"score on test: \" + str(mnb.score(x1_test, y_test)))\n",
        "print(\"score on train: \"+ str(mnb.score(x1_train, y_train)))"
      ]
    },
    {
      "cell_type": "code",
      "execution_count": null,
      "metadata": {
        "colab": {
          "base_uri": "https://localhost:8080/"
        },
        "id": "3nX2EYWxIgL_",
        "outputId": "97d3312a-d855-4b7b-e6a2-10516505932d"
      },
      "outputs": [
        {
          "output_type": "stream",
          "name": "stdout",
          "text": [
            "--------------------------------------------------\n",
            "Accuracy: 0.83\n",
            "Mis-Classification: 0.17\n",
            "Sensitivity: 0.88\n",
            "Specificity: 0.79\n",
            "Precision: 0.79\n",
            "f_1 Score: 0.83\n"
          ]
        }
      ],
      "source": [
        "# Importing the metrics package from sklearn library\n",
        "from sklearn import metrics\n",
        "# Creating the confusion matrix\n",
        "y_pred=mnb.predict(x1_test)\n",
        "def confusion_metrics (conf_matrix):\n",
        "# save confusion matrix and slice into four pieces\n",
        "    TP = conf_matrix[1][1]\n",
        "    TN = conf_matrix[0][0]\n",
        "    FP = conf_matrix[0][1]\n",
        "    FN = conf_matrix[1][0]\n",
        "    print('True Positives:', TP)\n",
        "    print('True Negatives:', TN)\n",
        "    print('False Positives:', FP)\n",
        "    print('False Negatives:', FN)\n",
        "\n",
        "cm = metrics.confusion_matrix(y_test, y_pred)\n",
        "TP = cm[1][1]\n",
        "TN = cm[0][0]\n",
        "FP = cm[0][1]\n",
        "FN = cm[1][0]\n",
        "# Assigning columns names\n",
        "# cm_df = pd.DataFrame(cm, \n",
        "#             columns = ['Predicted Negative', 'Predicted Positive'],\n",
        "#             index = ['Actual Negative', 'Actual Positive'])\n",
        "# # Showing the confusion matrix\n",
        "# cm_df\n",
        "\n",
        "# Creating a function to report confusion metrics\n",
        "# calculate accuracy\n",
        "conf_accuracy = (float (TP+TN) / float(TP + TN + FP + FN))\n",
        "    \n",
        "    # calculate mis-classification\n",
        "conf_misclassification = 1- conf_accuracy\n",
        "    \n",
        "    # calculate the sensitivity\n",
        "conf_sensitivity = (TP / float(TP + FN))\n",
        "    # calculate the specificity\n",
        "conf_specificity = (TN / float(TN + FP))\n",
        "    \n",
        "    # calculate precision\n",
        "conf_precision = (TN / float(TN + FP))\n",
        "    # calculate f_1 score\n",
        "conf_f1 = 2 * ((conf_precision * conf_sensitivity) / (conf_precision + conf_sensitivity))\n",
        "print('-'*50)\n",
        "print(f'Accuracy: {round(conf_accuracy,2)}') \n",
        "print(f'Mis-Classification: {round(conf_misclassification,2)}') \n",
        "print(f'Sensitivity: {round(conf_sensitivity,2)}') \n",
        "print(f'Specificity: {round(conf_specificity,2)}') \n",
        "print(f'Precision: {round(conf_precision,2)}')\n",
        "print(f'f_1 Score: {round(conf_f1,2)}')    \n",
        "    "
      ]
    },
    {
      "cell_type": "markdown",
      "metadata": {
        "id": "g-kTfQJdNeX_"
      },
      "source": [
        "# 2. Logistic Regression\n",
        "\n",
        "Sklearn Documentation: \n",
        "* LogisticRegression: https://scikit-learn.org/stable/modules/generated/sklearn.linear_model.LogisticRegression.html\n",
        "* SGD Classifier: https://scikit-learn.org/stable/modules/generated/sklearn.linear_model.SGDClassifier.html#sklearn.linear_model.SGDClassifier"
      ]
    },
    {
      "cell_type": "code",
      "execution_count": null,
      "metadata": {
        "colab": {
          "base_uri": "https://localhost:8080/"
        },
        "id": "DOKFfrprNeX_",
        "outputId": "536335e9-3958-4c55-b36e-01e0c1a0ec7f"
      },
      "outputs": [
        {
          "output_type": "stream",
          "name": "stdout",
          "text": [
            "train shape: (688, 19)\n",
            "score on test: 0.8434782608695652\n",
            "score on train: 0.8706395348837209\n",
            "CPU times: user 364 ms, sys: 253 ms, total: 618 ms\n",
            "Wall time: 420 ms\n"
          ]
        }
      ],
      "source": [
        "%%time\n",
        "\n",
        "from sklearn.linear_model import LogisticRegression\n",
        "\n",
        "lr=LogisticRegression(max_iter=5000)\n",
        "lr.fit(x_train, y_train)\n",
        "\n",
        "print(\"train shape: \" + str(x_train.shape))\n",
        "print(\"score on test: \" + str(lr.score(x_test, y_test)))\n",
        "print(\"score on train: \"+ str(lr.score(x_train, y_train)))"
      ]
    },
    {
      "cell_type": "code",
      "execution_count": null,
      "metadata": {
        "colab": {
          "base_uri": "https://localhost:8080/"
        },
        "id": "CgMVMS3bLQXn",
        "outputId": "da6ad54b-1008-43b8-8552-588deed6fc1e"
      },
      "outputs": [
        {
          "output_type": "stream",
          "name": "stdout",
          "text": [
            "--------------------------------------------------\n",
            "Accuracy: 0.84\n",
            "Mis-Classification: 0.16\n",
            "Sensitivity: 0.9\n",
            "Specificity: 0.78\n",
            "Precision: 0.78\n",
            "f_1 Score: 0.83\n"
          ]
        }
      ],
      "source": [
        "# Importing the metrics package from sklearn library\n",
        "from sklearn import metrics\n",
        "# Creating the confusion matrix\n",
        "y_pred=lr.predict(x_test)\n",
        "def confusion_metrics (conf_matrix):\n",
        "# save confusion matrix and slice into four pieces\n",
        "    TP = conf_matrix[1][1]\n",
        "    TN = conf_matrix[0][0]\n",
        "    FP = conf_matrix[0][1]\n",
        "    FN = conf_matrix[1][0]\n",
        "    print('True Positives:', TP)\n",
        "    print('True Negatives:', TN)\n",
        "    print('False Positives:', FP)\n",
        "    print('False Negatives:', FN)\n",
        "\n",
        "cm = metrics.confusion_matrix(y_test, y_pred)\n",
        "TP = cm[1][1]\n",
        "TN = cm[0][0]\n",
        "FP = cm[0][1]\n",
        "FN = cm[1][0]\n",
        "# calculate accuracy\n",
        "conf_accuracy = (float (TP+TN) / float(TP + TN + FP + FN))\n",
        "    \n",
        "    # calculate mis-classification\n",
        "conf_misclassification = 1- conf_accuracy\n",
        "    \n",
        "    # calculate the sensitivity\n",
        "conf_sensitivity = (TP / float(TP + FN))\n",
        "    # calculate the specificity\n",
        "conf_specificity = (TN / float(TN + FP))\n",
        "    \n",
        "    # calculate precision\n",
        "conf_precision = (TN / float(TN + FP))\n",
        "    # calculate f_1 score\n",
        "conf_f1 = 2 * ((conf_precision * conf_sensitivity) / (conf_precision + conf_sensitivity))\n",
        "print('-'*50)\n",
        "print(f'Accuracy: {round(conf_accuracy,2)}') \n",
        "print(f'Mis-Classification: {round(conf_misclassification,2)}') \n",
        "print(f'Sensitivity: {round(conf_sensitivity,2)}') \n",
        "print(f'Specificity: {round(conf_specificity,2)}') \n",
        "print(f'Precision: {round(conf_precision,2)}')\n",
        "print(f'f_1 Score: {round(conf_f1,2)}')    \n",
        "    "
      ]
    },
    {
      "cell_type": "code",
      "execution_count": null,
      "metadata": {
        "colab": {
          "base_uri": "https://localhost:8080/"
        },
        "id": "iQP9GejUNeYA",
        "outputId": "884046e9-ab5d-444b-a59c-e5572b706eb8"
      },
      "outputs": [
        {
          "output_type": "stream",
          "name": "stdout",
          "text": [
            "train shape: (688, 19)\n",
            "score on test: 0.5434782608695652\n",
            "score on train: 0.5508720930232558\n",
            "CPU times: user 11.7 ms, sys: 14.2 ms, total: 25.9 ms\n",
            "Wall time: 18.1 ms\n"
          ]
        }
      ],
      "source": [
        "%%time\n",
        "#logistic regression with stochastic gradient decent\n",
        "from sklearn.linear_model import SGDClassifier\n",
        "\n",
        "sgd=SGDClassifier()\n",
        "sgd.fit(x_train, y_train)\n",
        "\n",
        "print(\"train shape: \" + str(x_train.shape))\n",
        "print(\"score on test: \" + str(sgd.score(x_test, y_test)))\n",
        "print(\"score on train: \"+ str(sgd.score(x_train, y_train)))"
      ]
    },
    {
      "cell_type": "code",
      "execution_count": null,
      "metadata": {
        "colab": {
          "base_uri": "https://localhost:8080/"
        },
        "id": "RfXxlFaxMk7D",
        "outputId": "7f63e745-9af8-4694-bc2b-8033349a9478"
      },
      "outputs": [
        {
          "output_type": "stream",
          "name": "stdout",
          "text": [
            "--------------------------------------------------\n",
            "Accuracy: 0.54\n",
            "Mis-Classification: 0.46\n",
            "Sensitivity: 0.96\n",
            "Specificity: 0.07\n",
            "Precision: 0.07\n",
            "f_1 Score: 0.12\n"
          ]
        }
      ],
      "source": [
        "# Importing the metrics package from sklearn library\n",
        "from sklearn import metrics\n",
        "# Creating the confusion matrix\n",
        "y_pred=sgd.predict(x_test)\n",
        "def confusion_metrics (conf_matrix):\n",
        "# save confusion matrix and slice into four pieces\n",
        "    TP = conf_matrix[1][1]\n",
        "    TN = conf_matrix[0][0]\n",
        "    FP = conf_matrix[0][1]\n",
        "    FN = conf_matrix[1][0]\n",
        "    print('True Positives:', TP)\n",
        "    print('True Negatives:', TN)\n",
        "    print('False Positives:', FP)\n",
        "    print('False Negatives:', FN)\n",
        "\n",
        "cm = metrics.confusion_matrix(y_test, y_pred)\n",
        "TP = cm[1][1]\n",
        "TN = cm[0][0]\n",
        "FP = cm[0][1]\n",
        "FN = cm[1][0]\n",
        "# calculate accuracy\n",
        "conf_accuracy = (float (TP+TN) / float(TP + TN + FP + FN))\n",
        "    \n",
        "    # calculate mis-classification\n",
        "conf_misclassification = 1- conf_accuracy\n",
        "    \n",
        "    # calculate the sensitivity\n",
        "conf_sensitivity = (TP / float(TP + FN))\n",
        "    # calculate the specificity\n",
        "conf_specificity = (TN / float(TN + FP))\n",
        "    \n",
        "    # calculate precision\n",
        "conf_precision = (TN / float(TN + FP))\n",
        "    # calculate f_1 score\n",
        "conf_f1 = 2 * ((conf_precision * conf_sensitivity) / (conf_precision + conf_sensitivity))\n",
        "print('-'*50)\n",
        "print(f'Accuracy: {round(conf_accuracy,2)}') \n",
        "print(f'Mis-Classification: {round(conf_misclassification,2)}') \n",
        "print(f'Sensitivity: {round(conf_sensitivity,2)}') \n",
        "print(f'Specificity: {round(conf_specificity,2)}') \n",
        "print(f'Precision: {round(conf_precision,2)}')\n",
        "print(f'f_1 Score: {round(conf_f1,2)}')    \n",
        "    "
      ]
    },
    {
      "cell_type": "markdown",
      "metadata": {
        "id": "GK5OAc8BNeYA"
      },
      "source": [
        "# 3. K-Nearest Neighbours\n",
        "\n",
        "Sklearn Documentation:\n",
        "* https://scikit-learn.org/stable/modules/generated/sklearn.neighbors.KNeighborsClassifier.html"
      ]
    },
    {
      "cell_type": "code",
      "execution_count": null,
      "metadata": {
        "colab": {
          "base_uri": "https://localhost:8080/"
        },
        "id": "sbcHEDlcNeYA",
        "outputId": "f049c343-2230-4f25-a75f-4d7751467672"
      },
      "outputs": [
        {
          "output_type": "stream",
          "name": "stdout",
          "text": [
            "train shape: (688, 19)\n",
            "score on test: 0.6652173913043479\n",
            "score on train: 0.7906976744186046\n",
            "CPU times: user 112 ms, sys: 238 ms, total: 350 ms\n",
            "Wall time: 361 ms\n"
          ]
        }
      ],
      "source": [
        "%%time\n",
        "\n",
        "from sklearn.neighbors import KNeighborsClassifier\n",
        "\n",
        "#knn = KNeighborsClassifier(n_neighbors=5,algorithm = 'ball_tree')\n",
        "knn = KNeighborsClassifier(algorithm = 'brute', n_jobs=-1)\n",
        "\n",
        "knn.fit(x_train, y_train)\n",
        "\n",
        "print(\"train shape: \" + str(x_train.shape))\n",
        "print(\"score on test: \" + str(knn.score(x_test, y_test)))\n",
        "print(\"score on train: \"+ str(knn.score(x_train, y_train)))"
      ]
    },
    {
      "cell_type": "code",
      "execution_count": null,
      "metadata": {
        "colab": {
          "base_uri": "https://localhost:8080/"
        },
        "id": "kEHkTxlQMsno",
        "outputId": "7c1fe5c2-034a-438e-e2a7-074c7c39d9e2"
      },
      "outputs": [
        {
          "output_type": "stream",
          "name": "stdout",
          "text": [
            "--------------------------------------------------\n",
            "Accuracy: 0.67\n",
            "Mis-Classification: 0.33\n",
            "Sensitivity: 0.72\n",
            "Specificity: 0.61\n",
            "Precision: 0.61\n",
            "f_1 Score: 0.66\n"
          ]
        }
      ],
      "source": [
        "# Importing the metrics package from sklearn library\n",
        "from sklearn import metrics\n",
        "# Creating the confusion matrix\n",
        "y_pred=knn.predict(x_test)\n",
        "def confusion_metrics (conf_matrix):\n",
        "# save confusion matrix and slice into four pieces\n",
        "    TP = conf_matrix[1][1]\n",
        "    TN = conf_matrix[0][0]\n",
        "    FP = conf_matrix[0][1]\n",
        "    FN = conf_matrix[1][0]\n",
        "    print('True Positives:', TP)\n",
        "    print('True Negatives:', TN)\n",
        "    print('False Positives:', FP)\n",
        "    print('False Negatives:', FN)\n",
        "\n",
        "cm = metrics.confusion_matrix(y_test, y_pred)\n",
        "TP = cm[1][1]\n",
        "TN = cm[0][0]\n",
        "FP = cm[0][1]\n",
        "FN = cm[1][0]\n",
        "# calculate accuracy\n",
        "conf_accuracy = (float (TP+TN) / float(TP + TN + FP + FN))\n",
        "    \n",
        "    # calculate mis-classification\n",
        "conf_misclassification = 1- conf_accuracy\n",
        "    \n",
        "    # calculate the sensitivity\n",
        "conf_sensitivity = (TP / float(TP + FN))\n",
        "    # calculate the specificity\n",
        "conf_specificity = (TN / float(TN + FP))\n",
        "    \n",
        "    # calculate precision\n",
        "conf_precision = (TN / float(TN + FP))\n",
        "    # calculate f_1 score\n",
        "conf_f1 = 2 * ((conf_precision * conf_sensitivity) / (conf_precision + conf_sensitivity))\n",
        "print('-'*50)\n",
        "print(f'Accuracy: {round(conf_accuracy,2)}') \n",
        "print(f'Mis-Classification: {round(conf_misclassification,2)}') \n",
        "print(f'Sensitivity: {round(conf_sensitivity,2)}') \n",
        "print(f'Specificity: {round(conf_specificity,2)}') \n",
        "print(f'Precision: {round(conf_precision,2)}')\n",
        "print(f'f_1 Score: {round(conf_f1,2)}')    \n",
        "    "
      ]
    },
    {
      "cell_type": "markdown",
      "metadata": {
        "id": "IMdc63EmNeYB"
      },
      "source": [
        "# 4. Support Vector Machine\n",
        "\n",
        "Sklearn Documentation:\n",
        "* SVM Overview: https://scikit-learn.org/stable/modules/svm.html\n",
        "* LinearSVC: https://scikit-learn.org/stable/modules/generated/sklearn.svm.LinearSVC.html#sklearn.svm.LinearSVC\n"
      ]
    },
    {
      "cell_type": "code",
      "execution_count": null,
      "metadata": {
        "colab": {
          "base_uri": "https://localhost:8080/"
        },
        "id": "N-2Cod9kNeYB",
        "outputId": "4efff251-9a6c-410b-eaa4-4b2249c4fa1e"
      },
      "outputs": [
        {
          "output_type": "stream",
          "name": "stdout",
          "text": [
            "train shape: (688, 19)\n",
            "score on test: 0.717391304347826\n",
            "score on train: 0.752906976744186\n",
            "CPU times: user 41.4 ms, sys: 7.84 ms, total: 49.2 ms\n",
            "Wall time: 52.5 ms\n"
          ]
        }
      ],
      "source": [
        "%%time\n",
        "\n",
        "from sklearn.svm import LinearSVC\n",
        "\n",
        "svm=LinearSVC(C=0.0001)\n",
        "svm.fit(x_train, y_train)\n",
        "\n",
        "print(\"train shape: \" + str(x_train.shape))\n",
        "print(\"score on test: \" + str(svm.score(x_test, y_test)))\n",
        "print(\"score on train: \"+ str(svm.score(x_train, y_train)))"
      ]
    },
    {
      "cell_type": "code",
      "execution_count": null,
      "metadata": {
        "colab": {
          "base_uri": "https://localhost:8080/"
        },
        "id": "LHRIE4-EMzb0",
        "outputId": "a98c92fa-1f85-4ef8-ff41-88e7c91105a2"
      },
      "outputs": [
        {
          "output_type": "stream",
          "name": "stdout",
          "text": [
            "--------------------------------------------------\n",
            "Accuracy: 0.72\n",
            "Mis-Classification: 0.28\n",
            "Sensitivity: 0.8\n",
            "Specificity: 0.63\n",
            "Precision: 0.63\n",
            "f_1 Score: 0.7\n"
          ]
        }
      ],
      "source": [
        "# Importing the metrics package from sklearn library\n",
        "from sklearn import metrics\n",
        "# Creating the confusion matrix\n",
        "y_pred=svm.predict(x_test)\n",
        "def confusion_metrics (conf_matrix):\n",
        "# save confusion matrix and slice into four pieces\n",
        "    TP = conf_matrix[1][1]\n",
        "    TN = conf_matrix[0][0]\n",
        "    FP = conf_matrix[0][1]\n",
        "    FN = conf_matrix[1][0]\n",
        "    print('True Positives:', TP)\n",
        "    print('True Negatives:', TN)\n",
        "    print('False Positives:', FP)\n",
        "    print('False Negatives:', FN)\n",
        "\n",
        "cm = metrics.confusion_matrix(y_test, y_pred)\n",
        "TP = cm[1][1]\n",
        "TN = cm[0][0]\n",
        "FP = cm[0][1]\n",
        "FN = cm[1][0]\n",
        "# calculate accuracy\n",
        "conf_accuracy = (float (TP+TN) / float(TP + TN + FP + FN))\n",
        "    \n",
        "    # calculate mis-classification\n",
        "conf_misclassification = 1- conf_accuracy\n",
        "    \n",
        "    # calculate the sensitivity\n",
        "conf_sensitivity = (TP / float(TP + FN))\n",
        "    # calculate the specificity\n",
        "conf_specificity = (TN / float(TN + FP))\n",
        "    \n",
        "    # calculate precision\n",
        "conf_precision = (TN / float(TN + FP))\n",
        "    # calculate f_1 score\n",
        "conf_f1 = 2 * ((conf_precision * conf_sensitivity) / (conf_precision + conf_sensitivity))\n",
        "print('-'*50)\n",
        "print(f'Accuracy: {round(conf_accuracy,2)}') \n",
        "print(f'Mis-Classification: {round(conf_misclassification,2)}') \n",
        "print(f'Sensitivity: {round(conf_sensitivity,2)}') \n",
        "print(f'Specificity: {round(conf_specificity,2)}') \n",
        "print(f'Precision: {round(conf_precision,2)}')\n",
        "print(f'f_1 Score: {round(conf_f1,2)}')    \n",
        "    "
      ]
    },
    {
      "cell_type": "markdown",
      "metadata": {
        "id": "26GEqbimNeYC"
      },
      "source": [
        "# 5. Decision Tree\n",
        "\n",
        "Sklearn Documentation:\n",
        "\n",
        "* https://scikit-learn.org/stable/modules/generated/sklearn.tree.DecisionTreeClassifier.html"
      ]
    },
    {
      "cell_type": "code",
      "execution_count": null,
      "metadata": {
        "colab": {
          "base_uri": "https://localhost:8080/"
        },
        "id": "7UGPrj9RNeYC",
        "outputId": "36cf815b-0c42-4ca9-972f-b3838a8b71b4"
      },
      "outputs": [
        {
          "output_type": "stream",
          "name": "stdout",
          "text": [
            "train shape: (688, 19)\n",
            "score on test: 0.8130434782608695\n",
            "score on train: 0.8561046511627907\n",
            "CPU times: user 26.2 ms, sys: 17.1 ms, total: 43.3 ms\n",
            "Wall time: 80.3 ms\n"
          ]
        }
      ],
      "source": [
        "%%time\n",
        "\n",
        "from sklearn.tree import DecisionTreeClassifier\n",
        "\n",
        "clf = DecisionTreeClassifier(min_samples_split=10,max_depth=3)\n",
        "clf.fit(x_train, y_train)\n",
        "\n",
        "print(\"train shape: \" + str(x_train.shape))\n",
        "print(\"score on test: \"  + str(clf.score(x_test, y_test)))\n",
        "print(\"score on train: \" + str(clf.score(x_train, y_train)))"
      ]
    },
    {
      "cell_type": "code",
      "execution_count": null,
      "metadata": {
        "colab": {
          "base_uri": "https://localhost:8080/"
        },
        "id": "zNu9Im95M_mf",
        "outputId": "1ce8898e-0e44-403b-a2f4-9716eb2279bf"
      },
      "outputs": [
        {
          "output_type": "stream",
          "name": "stdout",
          "text": [
            "--------------------------------------------------\n",
            "Accuracy: 0.81\n",
            "Mis-Classification: 0.19\n",
            "Sensitivity: 0.85\n",
            "Specificity: 0.77\n",
            "Precision: 0.77\n",
            "f_1 Score: 0.81\n"
          ]
        }
      ],
      "source": [
        "# Importing the metrics package from sklearn library\n",
        "from sklearn import metrics\n",
        "# Creating the confusion matrix\n",
        "y_pred=clf.predict(x_test)\n",
        "def confusion_metrics (conf_matrix):\n",
        "# save confusion matrix and slice into four pieces\n",
        "    TP = conf_matrix[1][1]\n",
        "    TN = conf_matrix[0][0]\n",
        "    FP = conf_matrix[0][1]\n",
        "    FN = conf_matrix[1][0]\n",
        "    print('True Positives:', TP)\n",
        "    print('True Negatives:', TN)\n",
        "    print('False Positives:', FP)\n",
        "    print('False Negatives:', FN)\n",
        "\n",
        "cm = metrics.confusion_matrix(y_test, y_pred)\n",
        "TP = cm[1][1]\n",
        "TN = cm[0][0]\n",
        "FP = cm[0][1]\n",
        "FN = cm[1][0]\n",
        "# calculate accuracy\n",
        "conf_accuracy = (float (TP+TN) / float(TP + TN + FP + FN))\n",
        "    \n",
        "    # calculate mis-classification\n",
        "conf_misclassification = 1- conf_accuracy\n",
        "    \n",
        "    # calculate the sensitivity\n",
        "conf_sensitivity = (TP / float(TP + FN))\n",
        "    # calculate the specificity\n",
        "conf_specificity = (TN / float(TN + FP))\n",
        "    \n",
        "    # calculate precision\n",
        "conf_precision = (TN / float(TN + FP))\n",
        "    # calculate f_1 score\n",
        "conf_f1 = 2 * ((conf_precision * conf_sensitivity) / (conf_precision + conf_sensitivity))\n",
        "print('-'*50)\n",
        "print(f'Accuracy: {round(conf_accuracy,2)}') \n",
        "print(f'Mis-Classification: {round(conf_misclassification,2)}') \n",
        "print(f'Sensitivity: {round(conf_sensitivity,2)}') \n",
        "print(f'Specificity: {round(conf_specificity,2)}') \n",
        "print(f'Precision: {round(conf_precision,2)}')\n",
        "print(f'f_1 Score: {round(conf_f1,2)}')    \n",
        "    "
      ]
    },
    {
      "cell_type": "markdown",
      "metadata": {
        "id": "RqZlqAIKNeYC"
      },
      "source": [
        "# 6. Bagging Decision Tree\n",
        "\n",
        "Sklearn Documentation:\n",
        "\n",
        "* overview ensemble methods: https://scikit-learn.org/stable/modules/ensemble.html\n",
        "* bagging classifier: https://scikit-learn.org/stable/modules/generated/sklearn.ensemble.BaggingClassifier.html\n"
      ]
    },
    {
      "cell_type": "code",
      "execution_count": null,
      "metadata": {
        "colab": {
          "base_uri": "https://localhost:8080/"
        },
        "id": "h5l081T9NeYD",
        "outputId": "af4bb7fc-b6a1-482e-ac72-01f72ba72283"
      },
      "outputs": [
        {
          "output_type": "stream",
          "name": "stdout",
          "text": [
            "train shape: (688, 19)\n",
            "score on test: 0.8608695652173913\n",
            "score on train: 0.8677325581395349\n",
            "CPU times: user 58.6 ms, sys: 5.23 ms, total: 63.9 ms\n",
            "Wall time: 153 ms\n"
          ]
        }
      ],
      "source": [
        "%%time\n",
        "\n",
        "from sklearn.ensemble import BaggingClassifier\n",
        "from sklearn.tree import DecisionTreeClassifier\n",
        "\n",
        "bg=BaggingClassifier(DecisionTreeClassifier(min_samples_split=10,max_depth=3),max_samples=0.5,max_features=1.0,n_estimators=10)\n",
        "bg.fit(x_train, y_train)\n",
        "\n",
        "print(\"train shape: \" + str(x_train.shape))\n",
        "print(\"score on test: \" + str(bg.score(x_test, y_test)))\n",
        "print(\"score on train: \"+ str(bg.score(x_train, y_train)))"
      ]
    },
    {
      "cell_type": "code",
      "execution_count": null,
      "metadata": {
        "colab": {
          "base_uri": "https://localhost:8080/"
        },
        "id": "vlVJCys4NIhZ",
        "outputId": "01017483-5b70-4a52-fb25-92beb8eec7d0"
      },
      "outputs": [
        {
          "output_type": "stream",
          "name": "stdout",
          "text": [
            "--------------------------------------------------\n",
            "Accuracy: 0.86\n",
            "Mis-Classification: 0.14\n",
            "Sensitivity: 0.93\n",
            "Specificity: 0.79\n",
            "Precision: 0.79\n",
            "f_1 Score: 0.85\n"
          ]
        }
      ],
      "source": [
        "# Importing the metrics package from sklearn library\n",
        "from sklearn import metrics\n",
        "# Creating the confusion matrix\n",
        "y_pred=bg.predict(x_test)\n",
        "def confusion_metrics (conf_matrix):\n",
        "# save confusion matrix and slice into four pieces\n",
        "    TP = conf_matrix[1][1]\n",
        "    TN = conf_matrix[0][0]\n",
        "    FP = conf_matrix[0][1]\n",
        "    FN = conf_matrix[1][0]\n",
        "    print('True Positives:', TP)\n",
        "    print('True Negatives:', TN)\n",
        "    print('False Positives:', FP)\n",
        "    print('False Negatives:', FN)\n",
        "\n",
        "cm = metrics.confusion_matrix(y_test, y_pred)\n",
        "TP = cm[1][1]\n",
        "TN = cm[0][0]\n",
        "FP = cm[0][1]\n",
        "FN = cm[1][0]\n",
        "# calculate accuracy\n",
        "conf_accuracy = (float (TP+TN) / float(TP + TN + FP + FN))\n",
        "    \n",
        "    # calculate mis-classification\n",
        "conf_misclassification = 1- conf_accuracy\n",
        "    \n",
        "    # calculate the sensitivity\n",
        "conf_sensitivity = (TP / float(TP + FN))\n",
        "    # calculate the specificity\n",
        "conf_specificity = (TN / float(TN + FP))\n",
        "    \n",
        "    # calculate precision\n",
        "conf_precision = (TN / float(TN + FP))\n",
        "    # calculate f_1 score\n",
        "conf_f1 = 2 * ((conf_precision * conf_sensitivity) / (conf_precision + conf_sensitivity))\n",
        "print('-'*50)\n",
        "print(f'Accuracy: {round(conf_accuracy,2)}') \n",
        "print(f'Mis-Classification: {round(conf_misclassification,2)}') \n",
        "print(f'Sensitivity: {round(conf_sensitivity,2)}') \n",
        "print(f'Specificity: {round(conf_specificity,2)}') \n",
        "print(f'Precision: {round(conf_precision,2)}')\n",
        "print(f'f_1 Score: {round(conf_f1,2)}')    \n",
        "    "
      ]
    },
    {
      "cell_type": "markdown",
      "metadata": {
        "id": "x2eMyoIqNeYD"
      },
      "source": [
        "# 7. Boosting Decision Tree\n",
        "\n",
        "Sklearn Documentation:\n",
        "\n",
        "* AdaBoost Classifier: https://scikit-learn.org/stable/modules/generated/sklearn.ensemble.AdaBoostClassifier.html#sklearn.ensemble.AdaBoostClassifier\n",
        "* Gradien Boosting Classifier: https://scikit-learn.org/stable/modules/generated/sklearn.ensemble.GradientBoostingClassifier.html#sklearn.ensemble.GradientBoostingClassifier\n"
      ]
    },
    {
      "cell_type": "code",
      "execution_count": null,
      "metadata": {
        "colab": {
          "base_uri": "https://localhost:8080/"
        },
        "id": "bUJmydHkNeYD",
        "outputId": "b6f79b16-b491-4f6e-be57-a486313e1008"
      },
      "outputs": [
        {
          "output_type": "stream",
          "name": "stdout",
          "text": [
            "train shape: (688, 19)\n",
            "score on test: 0.8\n",
            "score on train: 0.9898255813953488\n",
            "CPU times: user 301 ms, sys: 4.07 ms, total: 305 ms\n",
            "Wall time: 301 ms\n"
          ]
        }
      ],
      "source": [
        "%%time\n",
        "\n",
        "from sklearn.ensemble import AdaBoostClassifier\n",
        "from sklearn.tree import DecisionTreeClassifier\n",
        "\n",
        "# setting \n",
        "# min_samples_split=10\n",
        "# max_depth=4\n",
        "\n",
        "adb = AdaBoostClassifier(DecisionTreeClassifier(max_depth=2),n_estimators=100,learning_rate=0.5)\n",
        "adb.fit(x_train, y_train)\n",
        "\n",
        "print(\"train shape: \" + str(x_train.shape))\n",
        "print(\"score on test: \" + str(adb.score(x_test, y_test)))\n",
        "print(\"score on train: \"+ str(adb.score(x_train, y_train)))"
      ]
    },
    {
      "cell_type": "code",
      "execution_count": null,
      "metadata": {
        "colab": {
          "base_uri": "https://localhost:8080/"
        },
        "id": "QaFp9ELmNTAE",
        "outputId": "6c52300e-41ac-49b6-836c-4403569d521b"
      },
      "outputs": [
        {
          "output_type": "stream",
          "name": "stdout",
          "text": [
            "--------------------------------------------------\n",
            "Accuracy: 0.8\n",
            "Mis-Classification: 0.2\n",
            "Sensitivity: 0.86\n",
            "Specificity: 0.73\n",
            "Precision: 0.73\n",
            "f_1 Score: 0.79\n"
          ]
        }
      ],
      "source": [
        "# Importing the metrics package from sklearn library\n",
        "from sklearn import metrics\n",
        "# Creating the confusion matrix\n",
        "y_pred=adb.predict(x_test)\n",
        "def confusion_metrics (conf_matrix):\n",
        "# save confusion matrix and slice into four pieces\n",
        "    TP = conf_matrix[1][1]\n",
        "    TN = conf_matrix[0][0]\n",
        "    FP = conf_matrix[0][1]\n",
        "    FN = conf_matrix[1][0]\n",
        "    print('True Positives:', TP)\n",
        "    print('True Negatives:', TN)\n",
        "    print('False Positives:', FP)\n",
        "    print('False Negatives:', FN)\n",
        "\n",
        "cm = metrics.confusion_matrix(y_test, y_pred)\n",
        "TP = cm[1][1]\n",
        "TN = cm[0][0]\n",
        "FP = cm[0][1]\n",
        "FN = cm[1][0]\n",
        "# calculate accuracy\n",
        "conf_accuracy = (float (TP+TN) / float(TP + TN + FP + FN))\n",
        "    \n",
        "    # calculate mis-classification\n",
        "conf_misclassification = 1- conf_accuracy\n",
        "    \n",
        "    # calculate the sensitivity\n",
        "conf_sensitivity = (TP / float(TP + FN))\n",
        "    # calculate the specificity\n",
        "conf_specificity = (TN / float(TN + FP))\n",
        "    \n",
        "    # calculate precision\n",
        "conf_precision = (TN / float(TN + FP))\n",
        "    # calculate f_1 score\n",
        "conf_f1 = 2 * ((conf_precision * conf_sensitivity) / (conf_precision + conf_sensitivity))\n",
        "print('-'*50)\n",
        "print(f'Accuracy: {round(conf_accuracy,2)}') \n",
        "print(f'Mis-Classification: {round(conf_misclassification,2)}') \n",
        "print(f'Sensitivity: {round(conf_sensitivity,2)}') \n",
        "print(f'Specificity: {round(conf_specificity,2)}') \n",
        "print(f'Precision: {round(conf_precision,2)}')\n",
        "print(f'f_1 Score: {round(conf_f1,2)}')    \n",
        "    "
      ]
    },
    {
      "cell_type": "code",
      "execution_count": null,
      "metadata": {
        "colab": {
          "base_uri": "https://localhost:8080/"
        },
        "id": "NVLPOYjANeYE",
        "outputId": "dd511e5d-d777-412f-a9ae-efd5c40f1ed0"
      },
      "outputs": [
        {
          "output_type": "stream",
          "name": "stdout",
          "text": [
            "train shape: (688, 19)\n",
            "score on test: 0.8391304347826087\n",
            "score on train: 0.9651162790697675\n",
            "CPU times: user 179 ms, sys: 0 ns, total: 179 ms\n",
            "Wall time: 187 ms\n"
          ]
        }
      ],
      "source": [
        "%%time\n",
        "\n",
        "from sklearn.ensemble import GradientBoostingClassifier\n",
        "\n",
        "# setting \n",
        "# min_samples_split=10\n",
        "# max_depth=4\n",
        "\n",
        "gbc = GradientBoostingClassifier(n_estimators=100)\n",
        "gbc.fit(x_train, y_train)\n",
        "\n",
        "print(\"train shape: \" + str(x_train.shape))\n",
        "print(\"score on test: \" + str(gbc.score(x_test, y_test)))\n",
        "print(\"score on train: \"+ str(gbc.score(x_train, y_train)))"
      ]
    },
    {
      "cell_type": "code",
      "execution_count": null,
      "metadata": {
        "colab": {
          "base_uri": "https://localhost:8080/"
        },
        "id": "TJkTdhfJNY9Q",
        "outputId": "6d8905bf-555c-4a06-e000-9b01a2c89add"
      },
      "outputs": [
        {
          "output_type": "stream",
          "name": "stdout",
          "text": [
            "--------------------------------------------------\n",
            "Accuracy: 0.84\n",
            "Mis-Classification: 0.16\n",
            "Sensitivity: 0.92\n",
            "Specificity: 0.75\n",
            "Precision: 0.75\n",
            "f_1 Score: 0.82\n"
          ]
        }
      ],
      "source": [
        "# Importing the metrics package from sklearn library\n",
        "from sklearn import metrics\n",
        "# Creating the confusion matrix\n",
        "y_pred=gbc.predict(x_test)\n",
        "def confusion_metrics (conf_matrix):\n",
        "# save confusion matrix and slice into four pieces\n",
        "    TP = conf_matrix[1][1]\n",
        "    TN = conf_matrix[0][0]\n",
        "    FP = conf_matrix[0][1]\n",
        "    FN = conf_matrix[1][0]\n",
        "    print('True Positives:', TP)\n",
        "    print('True Negatives:', TN)\n",
        "    print('False Positives:', FP)\n",
        "    print('False Negatives:', FN)\n",
        "\n",
        "cm = metrics.confusion_matrix(y_test, y_pred)\n",
        "TP = cm[1][1]\n",
        "TN = cm[0][0]\n",
        "FP = cm[0][1]\n",
        "FN = cm[1][0]\n",
        "# calculate accuracy\n",
        "conf_accuracy = (float (TP+TN) / float(TP + TN + FP + FN))\n",
        "    \n",
        "    # calculate mis-classification\n",
        "conf_misclassification = 1- conf_accuracy\n",
        "    \n",
        "    # calculate the sensitivity\n",
        "conf_sensitivity = (TP / float(TP + FN))\n",
        "    # calculate the specificity\n",
        "conf_specificity = (TN / float(TN + FP))\n",
        "    \n",
        "    # calculate precision\n",
        "conf_precision = (TN / float(TN + FP))\n",
        "    # calculate f_1 score\n",
        "conf_f1 = 2 * ((conf_precision * conf_sensitivity) / (conf_precision + conf_sensitivity))\n",
        "print('-'*50)\n",
        "print(f'Accuracy: {round(conf_accuracy,2)}') \n",
        "print(f'Mis-Classification: {round(conf_misclassification,2)}') \n",
        "print(f'Sensitivity: {round(conf_sensitivity,2)}') \n",
        "print(f'Specificity: {round(conf_specificity,2)}') \n",
        "print(f'Precision: {round(conf_precision,2)}')\n",
        "print(f'f_1 Score: {round(conf_f1,2)}')    \n",
        "    "
      ]
    },
    {
      "cell_type": "markdown",
      "metadata": {
        "id": "SiIE1C6bNeYE"
      },
      "source": [
        "# 8. Random Forest\n",
        "\n",
        "Sklearn Documentation:\n",
        "* https://scikit-learn.org/stable/modules/generated/sklearn.ensemble.RandomForestClassifier.html#sklearn.ensemble.RandomForestClassifier"
      ]
    },
    {
      "cell_type": "code",
      "execution_count": null,
      "metadata": {
        "colab": {
          "base_uri": "https://localhost:8080/"
        },
        "id": "3ecNj1KENeYF",
        "outputId": "a749097a-d9a9-490d-fedd-ca87dcdb4036"
      },
      "outputs": [
        {
          "output_type": "stream",
          "name": "stdout",
          "text": [
            "score on test: 0.8521739130434782\n",
            "score on train: 0.875\n",
            "CPU times: user 224 ms, sys: 4.96 ms, total: 229 ms\n",
            "Wall time: 231 ms\n"
          ]
        }
      ],
      "source": [
        "%%time\n",
        "\n",
        "from sklearn.ensemble import RandomForestClassifier\n",
        "\n",
        "# n_estimators = number of desission trees\n",
        "rf = RandomForestClassifier(n_estimators=100,max_depth=3)\n",
        "rf.fit(x_train, y_train)\n",
        "\n",
        "print(\"score on test: \" + str(rf.score(x_test, y_test)))\n",
        "print(\"score on train: \"+ str(rf.score(x_train, y_train)))"
      ]
    },
    {
      "cell_type": "code",
      "execution_count": null,
      "metadata": {
        "colab": {
          "base_uri": "https://localhost:8080/"
        },
        "id": "VpScJlaWNkpY",
        "outputId": "4fc9ba6d-9f38-49ed-b8a3-aa69f92329ef"
      },
      "outputs": [
        {
          "output_type": "stream",
          "name": "stdout",
          "text": [
            "--------------------------------------------------\n",
            "Accuracy: 0.85\n",
            "Mis-Classification: 0.15\n",
            "Sensitivity: 0.93\n",
            "Specificity: 0.77\n",
            "Precision: 0.77\n",
            "f_1 Score: 0.84\n"
          ]
        }
      ],
      "source": [
        "# Importing the metrics package from sklearn library\n",
        "from sklearn import metrics\n",
        "# Creating the confusion matrix\n",
        "y_pred=rf.predict(x_test)\n",
        "def confusion_metrics (conf_matrix):\n",
        "# save confusion matrix and slice into four pieces\n",
        "    TP = conf_matrix[1][1]\n",
        "    TN = conf_matrix[0][0]\n",
        "    FP = conf_matrix[0][1]\n",
        "    FN = conf_matrix[1][0]\n",
        "    print('True Positives:', TP)\n",
        "    print('True Negatives:', TN)\n",
        "    print('False Positives:', FP)\n",
        "    print('False Negatives:', FN)\n",
        "\n",
        "cm = metrics.confusion_matrix(y_test, y_pred)\n",
        "TP = cm[1][1]\n",
        "TN = cm[0][0]\n",
        "FP = cm[0][1]\n",
        "FN = cm[1][0]\n",
        "# calculate accuracy\n",
        "conf_accuracy = (float (TP+TN) / float(TP + TN + FP + FN))\n",
        "    \n",
        "    # calculate mis-classification\n",
        "conf_misclassification = 1- conf_accuracy\n",
        "    \n",
        "    # calculate the sensitivity\n",
        "conf_sensitivity = (TP / float(TP + FN))\n",
        "    # calculate the specificity\n",
        "conf_specificity = (TN / float(TN + FP))\n",
        "    \n",
        "    # calculate precision\n",
        "conf_precision = (TN / float(TN + FP))\n",
        "    # calculate f_1 score\n",
        "conf_f1 = 2 * ((conf_precision * conf_sensitivity) / (conf_precision + conf_sensitivity))\n",
        "print('-'*50)\n",
        "print(f'Accuracy: {round(conf_accuracy,2)}') \n",
        "print(f'Mis-Classification: {round(conf_misclassification,2)}') \n",
        "print(f'Sensitivity: {round(conf_sensitivity,2)}') \n",
        "print(f'Specificity: {round(conf_specificity,2)}') \n",
        "print(f'Precision: {round(conf_precision,2)}')\n",
        "print(f'f_1 Score: {round(conf_f1,2)}')    \n",
        "    "
      ]
    },
    {
      "cell_type": "code",
      "execution_count": null,
      "metadata": {
        "colab": {
          "base_uri": "https://localhost:8080/"
        },
        "id": "Og6l_HCGNeYF",
        "outputId": "0a5e702f-1845-4398-d5b5-627c26efe498"
      },
      "outputs": [
        {
          "output_type": "stream",
          "name": "stdout",
          "text": [
            "Accuracy: 0.84 (+/- 0.02) [Abd Boosted Tree]\n",
            "Accuracy: 0.86 (+/- 0.02) [Logistic Regression]\n",
            "Accuracy: 0.87 (+/- 0.02) [Random Forest]\n",
            "Accuracy: 0.74 (+/- 0.03) [Support Vector Machine]\n",
            "CPU times: user 4 s, sys: 1.55 s, total: 5.54 s\n",
            "Wall time: 3.92 s\n"
          ]
        }
      ],
      "source": [
        "%%time\n",
        "from sklearn.model_selection import cross_val_score\n",
        "\n",
        "for clf, label in zip([ adb,lr, rf, svm], [\"Abd Boosted Tree\",'Logistic Regression', 'Random Forest', 'Support Vector Machine']):\n",
        "    scores = cross_val_score(clf, x_train, y_train, scoring='accuracy', cv=5)\n",
        "    print(\"Accuracy: %0.2f (+/- %0.2f) [%s]\" % (scores.mean(), scores.std(), label))"
      ]
    },
    {
      "cell_type": "markdown",
      "metadata": {
        "id": "MzYmp9TpNeYG"
      },
      "source": [
        "# 9. Deep Learning \n",
        "\n",
        "Keras Documentation:\n",
        "* Sequential Model: https://keras.io/guides/sequential_model/"
      ]
    },
    {
      "cell_type": "code",
      "execution_count": null,
      "metadata": {
        "colab": {
          "base_uri": "https://localhost:8080/"
        },
        "id": "ickW9kZ4NeYG",
        "outputId": "42ce68b5-9fb8-4c0d-aadf-6580a9f4e2c3"
      },
      "outputs": [
        {
          "output_type": "stream",
          "name": "stdout",
          "text": [
            "Epoch 1/4\n",
            "2/2 [==============================] - 1s 216ms/step - loss: 40.8351 - accuracy: 0.4269 - val_loss: 26.0851 - val_accuracy: 0.5200\n",
            "Epoch 2/4\n",
            "2/2 [==============================] - 0s 38ms/step - loss: 31.3527 - accuracy: 0.4252 - val_loss: 21.0914 - val_accuracy: 0.5200\n",
            "Epoch 3/4\n",
            "2/2 [==============================] - 0s 31ms/step - loss: 25.4904 - accuracy: 0.4303 - val_loss: 17.0140 - val_accuracy: 0.5400\n",
            "Epoch 4/4\n",
            "2/2 [==============================] - 0s 28ms/step - loss: 20.7200 - accuracy: 0.4456 - val_loss: 13.7279 - val_accuracy: 0.5700\n",
            "\n",
            "train shape: (688, 19)\n",
            "8/8 [==============================] - 0s 2ms/step - loss: 15.7210 - accuracy: 0.5130\n",
            "score on test: 0.5130434632301331\n",
            "22/22 [==============================] - 0s 2ms/step - loss: 16.4772 - accuracy: 0.4782\n",
            "score on train: 0.4781976640224457\n",
            "CPU times: user 3.8 s, sys: 411 ms, total: 4.21 s\n",
            "Wall time: 4.81 s\n"
          ]
        }
      ],
      "source": [
        "%%time\n",
        "\n",
        "from keras import layers\n",
        "from keras import models\n",
        "from keras import optimizers\n",
        "from keras import losses\n",
        "from keras import metrics\n",
        "# split an additional validation dataset\n",
        "x_validation=x_train[:100]\n",
        "x_partial_train=x_train[100:]\n",
        "y_validation=y_train[:100]\n",
        "y_partial_train=y_train[100:]\n",
        "model=models.Sequential()\n",
        "model.add(layers.Dense(16,activation='relu',input_shape=(19,)))\n",
        "model.add(layers.Dense(16,activation='relu'))\n",
        "model.add(layers.Dense(1,activation='sigmoid'))\n",
        "model.compile(optimizer='rmsprop',loss='binary_crossentropy',metrics=['accuracy'])\n",
        "model.fit(x_partial_train,y_partial_train,epochs=4,batch_size=512,validation_data=(x_validation,y_validation))\n",
        "\n",
        "\n",
        "print('')\n",
        "print(\"train shape: \" + str(x_train.shape))\n",
        "print(\"score on test: \" + str(model.evaluate(x_test,y_test)[1]))\n",
        "print(\"score on train: \"+ str(model.evaluate(x_train,y_train)[1]))\n"
      ]
    },
    {
      "cell_type": "code",
      "execution_count": null,
      "metadata": {
        "colab": {
          "base_uri": "https://localhost:8080/"
        },
        "id": "rfu7lOIlNeYG",
        "outputId": "db652f39-1161-4cc5-cfb4-45fcde3292dd"
      },
      "outputs": [
        {
          "output_type": "stream",
          "name": "stdout",
          "text": [
            "Epoch 1/4\n",
            "2/2 [==============================] - 1s 179ms/step - loss: 13.6867 - accuracy: 0.4660 - val_loss: 6.8542 - val_accuracy: 0.4800\n",
            "Epoch 2/4\n",
            "2/2 [==============================] - 0s 25ms/step - loss: 13.5983 - accuracy: 0.4660 - val_loss: 6.6432 - val_accuracy: 0.4800\n",
            "Epoch 3/4\n",
            "2/2 [==============================] - 0s 29ms/step - loss: 12.7732 - accuracy: 0.4541 - val_loss: 6.1777 - val_accuracy: 0.4800\n",
            "Epoch 4/4\n",
            "2/2 [==============================] - 0s 33ms/step - loss: 10.6520 - accuracy: 0.4473 - val_loss: 6.1039 - val_accuracy: 0.4800\n",
            "\n",
            "train shape: (688, 19)\n",
            "8/8 [==============================] - 0s 3ms/step - loss: 5.4319 - accuracy: 0.5348\n",
            "score on test: 0.5347825884819031\n",
            "22/22 [==============================] - 0s 1ms/step - loss: 5.1614 - accuracy: 0.5596\n",
            "score on train: 0.5595930218696594\n",
            "CPU times: user 1.31 s, sys: 54.2 ms, total: 1.37 s\n",
            "Wall time: 1.72 s\n"
          ]
        }
      ],
      "source": [
        "%%time\n",
        "\n",
        "from keras import layers\n",
        "from keras import models\n",
        "from keras import optimizers\n",
        "from keras import losses\n",
        "from keras import regularizers\n",
        "from keras import metrics\n",
        "\n",
        "# add validation dataset\n",
        "validation_split=100\n",
        "x_validation=x_train[:validation_split]\n",
        "x_partial_train=x_train[validation_split:]\n",
        "y_validation=y_train[:validation_split]\n",
        "y_partial_train=y_train[validation_split:]\n",
        "\n",
        "model=models.Sequential()\n",
        "model.add(layers.Dense(4,kernel_regularizer=regularizers.l2(0.003),activation='relu',input_shape=(19,)))\n",
        "model.add(layers.Dropout(0.7))\n",
        "model.add(layers.Dense(4,kernel_regularizer=regularizers.l2(0.003),activation='relu'))\n",
        "model.add(layers.Dropout(0.7))\n",
        "model.add(layers.Dense(1,activation='sigmoid'))\n",
        "model.compile(optimizer='rmsprop',loss='binary_crossentropy',metrics=['accuracy'])\n",
        "\n",
        "model.fit(x_partial_train,y_partial_train,epochs=4,batch_size=512,validation_data=(x_validation,y_validation))\n",
        "\n",
        "print('')\n",
        "print(\"train shape: \" + str(x_train.shape))\n",
        "print(\"score on test: \" + str(model.evaluate(x_test,y_test)[1]))\n",
        "print(\"score on train: \"+ str(model.evaluate(x_train,y_train)[1]))\n"
      ]
    },
    {
      "cell_type": "markdown",
      "metadata": {
        "id": "v5LjEMm7Gw1U"
      },
      "source": [
        "# 10. Voting Classifier\n",
        "\n",
        "Sklearn Documentation:\n",
        "* https://scikit-learn.org/stable/modules/generated/sklearn.ensemble.VotingClassifier.html#sklearn.ensemble.VotingClassifierext*"
      ]
    },
    {
      "cell_type": "code",
      "execution_count": null,
      "metadata": {
        "colab": {
          "base_uri": "https://localhost:8080/"
        },
        "id": "z4MWL4a6NeYH",
        "outputId": "7df96f7d-f50b-4d60-b417-3368c43465de"
      },
      "outputs": [
        {
          "output_type": "stream",
          "name": "stdout",
          "text": [
            "score on test: 0.8434782608695652\n",
            "score on train: 0.8793604651162791\n",
            "CPU times: user 146 ms, sys: 120 ms, total: 266 ms\n",
            "Wall time: 145 ms\n"
          ]
        }
      ],
      "source": [
        "%%time\n",
        "\n",
        "from sklearn.ensemble import VotingClassifier\n",
        "from sklearn.preprocessing import MinMaxScaler\n",
        "\n",
        "scaler = MinMaxScaler()\n",
        "x1_train = scaler.fit_transform(x_train)\n",
        "x1_test=scaler.fit_transform(x_test)\n",
        "\n",
        "# 1) naive bias = mnb\n",
        "mnb = MultinomialNB().fit(x1_train, y_train)\n",
        "# 2) logistic regression =lr\n",
        "lr=LogisticRegression(max_iter=1000)\n",
        "# 3) random forest =rf\n",
        "rf = RandomForestClassifier(n_estimators=30,max_depth=9)\n",
        "# 4) suport vecotr mnachine = svm\n",
        "svm=LinearSVC(C=0.0001)\n",
        "\n",
        "evc=VotingClassifier(estimators=[('mnb',mnb),('lr',lr),('rf',rf),('svm',svm)])\n",
        "evc.fit(x1_train, y_train)\n",
        "\n",
        "print(\"score on test: \" + str(evc.score(x1_test, y_test)))\n",
        "print(\"score on train: \"+ str(evc.score(x1_train, y_train)))"
      ]
    },
    {
      "cell_type": "code",
      "execution_count": null,
      "metadata": {
        "colab": {
          "base_uri": "https://localhost:8080/"
        },
        "id": "WNXebrNaFvNx",
        "outputId": "de947a52-809d-462b-af43-576bb9486c84"
      },
      "outputs": [
        {
          "output_type": "stream",
          "name": "stdout",
          "text": [
            "Accuracy: 0.87 (+/- 0.03) [Naive Bayes]\n",
            "Accuracy: 0.86 (+/- 0.03) [Logistic Regression]\n",
            "Accuracy: 0.87 (+/- 0.02) [Random Forest]\n",
            "Accuracy: 0.81 (+/- 0.02) [Support Vector Machine]\n",
            "Accuracy: 0.87 (+/- 0.03) [Ensemble]\n",
            "CPU times: user 1.06 s, sys: 660 ms, total: 1.72 s\n",
            "Wall time: 1.01 s\n"
          ]
        }
      ],
      "source": [
        "%%time\n",
        "from sklearn.model_selection import cross_val_score\n",
        "\n",
        "for clf, label in zip([mnb, lr, rf, svm, evc], ['Naive Bayes', 'Logistic Regression', 'Random Forest', 'Support Vector Machine','Ensemble']):\n",
        "    scores = cross_val_score(clf, x1_train, y_train, scoring='accuracy', cv=5)\n",
        "    print(\"Accuracy: %0.2f (+/- %0.2f) [%s]\" % (scores.mean(), scores.std(), label))"
      ]
    }
  ],
  "metadata": {
    "colab": {
      "collapsed_sections": [],
      "name": "Heart Deisease Prediction.ipynb",
      "provenance": [],
      "include_colab_link": true
    },
    "kernelspec": {
      "display_name": "Python 3",
      "language": "python",
      "name": "python3"
    },
    "language_info": {
      "codemirror_mode": {
        "name": "ipython",
        "version": 3
      },
      "file_extension": ".py",
      "mimetype": "text/x-python",
      "name": "python",
      "nbconvert_exporter": "python",
      "pygments_lexer": "ipython3",
      "version": "3.8.8"
    }
  },
  "nbformat": 4,
  "nbformat_minor": 0
}